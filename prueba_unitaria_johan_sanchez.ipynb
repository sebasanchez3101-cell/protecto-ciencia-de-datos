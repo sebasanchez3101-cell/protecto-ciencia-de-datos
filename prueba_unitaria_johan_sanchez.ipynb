{
  "nbformat": 4,
  "nbformat_minor": 0,
  "metadata": {
    "colab": {
      "provenance": [],
      "authorship_tag": "ABX9TyOcEnj8yLF3iySECaMmBsvD",
      "include_colab_link": true
    },
    "kernelspec": {
      "name": "python3",
      "display_name": "Python 3"
    },
    "language_info": {
      "name": "python"
    }
  },
  "cells": [
    {
      "cell_type": "markdown",
      "metadata": {
        "id": "view-in-github",
        "colab_type": "text"
      },
      "source": [
        "<a href=\"https://colab.research.google.com/github/sebasanchez3101-cell/trabajos-ciencia-de-datos/blob/main/prueba_unitaria_johan_sanchez.ipynb\" target=\"_parent\"><img src=\"https://colab.research.google.com/assets/colab-badge.svg\" alt=\"Open In Colab\"/></a>"
      ]
    },
    {
      "cell_type": "code",
      "execution_count": 1,
      "metadata": {
        "id": "DC3wqmHI02a0",
        "colab": {
          "base_uri": "https://localhost:8080/"
        },
        "outputId": "fdadd469-e489-42be-c830-3d7f22d1916b"
      },
      "outputs": [
        {
          "output_type": "stream",
          "name": "stdout",
          "text": [
            "Mounted at /content/drive\n"
          ]
        }
      ],
      "source": [
        "from google.colab import drive\n",
        "drive.mount('/content/drive')"
      ]
    },
    {
      "cell_type": "code",
      "source": [
        "from datetime import date"
      ],
      "metadata": {
        "id": "NL-CKTT06QAD"
      },
      "execution_count": 2,
      "outputs": []
    },
    {
      "cell_type": "markdown",
      "source": [
        "#6.1 implementacion clase person"
      ],
      "metadata": {
        "id": "LsRTsxQa6R9c"
      }
    },
    {
      "cell_type": "code",
      "source": [
        "class Person:\n",
        "    def __init__(self, n, e, b):\n",
        "        self.__name = n\n",
        "        self.email = None\n",
        "        self.set_email(e)\n",
        "        self.__age = self.calculateAge(b)\n",
        "\n",
        "    def calculateAge(self, b):\n",
        "        days_in_year = 365.2425\n",
        "        age = int((date.today() - b).days / days_in_year)\n",
        "        return age\n",
        "\n",
        "    def set_email(self, e):\n",
        "        if e.count(\"@\") == 1 and e.find(\"@\") >= 1 and e.find(\"@\") + 2 < e.rfind(\".\"):\n",
        "            self.__email = e\n",
        "        else:\n",
        "            print(\"Invalid Email\", e)\n",
        "            self.__email = None\n",
        "\n",
        "    def get_email(self):\n",
        "        return self.__email\n",
        "\n",
        "    def get_name(self):\n",
        "        return self.__name\n",
        "\n",
        "    def set_name(self, n):\n",
        "        self.__name = n\n",
        "\n",
        "    def get_age(self):\n",
        "        return self.__age\n",
        "\n",
        "    def __eq__(self, other):\n",
        "        return self.__name == other.__name\n",
        "\n",
        "    def __str__(self):\n",
        "        return (\"name: \" + self.__name + '\\t email: ' + self.__email + '\\t age: ' + str(self.__age))\n"
      ],
      "metadata": {
        "id": "wCiRQwfl6V8t"
      },
      "execution_count": 3,
      "outputs": []
    },
    {
      "cell_type": "markdown",
      "source": [
        "#6.2 Implementación clase Student\n",
        "\n"
      ],
      "metadata": {
        "id": "ICy46VQd6b3z"
      }
    },
    {
      "cell_type": "code",
      "source": [
        "class Student(Person):\n",
        "    def __init__(self, n, e, b, ID):\n",
        "        super().__init__(n, e, b)  # Usando super() para llamar al constructor de Person\n",
        "        self.__SID = ID\n",
        "        self.__Courses = dict()\n",
        "        self.__AverageGrade = 0\n",
        "\n",
        "    def addCourses(self, CourseID, result):\n",
        "        self.__Courses[CourseID] = result\n",
        "        self.calculateAverage()\n",
        "\n",
        "    def calculateAverage(self):\n",
        "        if len(self.__Courses) > 0:\n",
        "            total = sum(self.__Courses.values())\n",
        "            self.__AverageGrade = total / len(self.__Courses)\n",
        "        else:\n",
        "            self.__AverageGrade = 0\n",
        "\n",
        "    def get_AverageGrade(self):\n",
        "        return self.__AverageGrade\n",
        "\n",
        "    def get_SID(self):\n",
        "        return self.__SID\n",
        "\n",
        "    def get_Courses(self):\n",
        "        return self.__Courses\n",
        "\n",
        "    def set_SID(self, ID):\n",
        "        self.__SID = ID\n",
        "\n",
        "    def __str__(self):\n",
        "        return (super().__str__() + '\\t SID: ' + str(self.__SID) + '\\t Courses: ' + str(self.__Courses) + '\\t AverageGrade: ' + str(self.__AverageGrade))\n",
        "\n",
        "    def __eq__(self, other):\n",
        "        return isinstance(other, Student) and self.__SID == other.__SID  # Compara por ID\n",
        "\n",
        "    def __lt__(self, other):\n",
        "        return self.__AverageGrade < other.__AverageGrade"
      ],
      "metadata": {
        "id": "odmvxS2T6YGl"
      },
      "execution_count": 4,
      "outputs": []
    },
    {
      "cell_type": "markdown",
      "source": [
        "#6.3 Uso y ejemplo de búsqueda"
      ],
      "metadata": {
        "id": "01crLosQ6iv0"
      }
    },
    {
      "cell_type": "code",
      "source": [
        "from datetime import date\n",
        "\n",
        "students_list = []\n",
        "\n",
        "S1 = Student(\"khouloud\", \"kh@hotmail.com\", date(1995, 2, 3), 123)\n",
        "S1.addCourses(\"CS120\", 90)\n",
        "S1.addCourses(\"IT320\", 95)\n",
        "S1.addCourses(\"CS100\", 95)\n",
        "\n",
        "S2 = Student(\"khadija\", \"khadija@gmail.com\", date(1995, 9, 3), 232)\n",
        "S2.addCourses(\"CS120\", 80)\n",
        "S2.addCourses(\"IT320\", 75)\n",
        "S2.addCourses(\"CS100\", 95)\n",
        "\n",
        "S3 = Student(\"khaled\", \"khaled@gamil.com\", date(1999, 5, 6), 235)\n",
        "S3.addCourses(\"CS120\", 75)\n",
        "S3.addCourses(\"IT320\", 88)\n",
        "S3.addCourses(\"CS100\", 90)\n",
        "\n",
        "students_list.append(S1)\n",
        "students_list.append(S2)\n",
        "students_list.append(S3)\n",
        "\n",
        "# Búsqueda\n",
        "searchs = Student(\"Khadija\", \"khadija@gmail.com\", date(1995, 9, 3), 232)\n",
        "\n",
        "if students_list.count(searchs) > 0:\n",
        "    print(\"the student is found\")\n",
        "else:\n",
        "    print(\"the student is NOT found\")\n",
        "\n",
        "students_list.sort()\n",
        "for p in students_list:\n",
        "    print(p)\n"
      ],
      "metadata": {
        "colab": {
          "base_uri": "https://localhost:8080/"
        },
        "id": "BvfQ8N0S6kQw",
        "outputId": "a291b357-abfb-40bb-a3d9-7d2e86853773"
      },
      "execution_count": 5,
      "outputs": [
        {
          "output_type": "stream",
          "name": "stdout",
          "text": [
            "the student is found\n",
            "name: khadija\t email: khadija@gmail.com\t age: 30\t SID: 232\t Courses: {'CS120': 80, 'IT320': 75, 'CS100': 95}\t AverageGrade: 83.33333333333333\n",
            "name: khaled\t email: khaled@gamil.com\t age: 26\t SID: 235\t Courses: {'CS120': 75, 'IT320': 88, 'CS100': 90}\t AverageGrade: 84.33333333333333\n",
            "name: khouloud\t email: kh@hotmail.com\t age: 30\t SID: 123\t Courses: {'CS120': 90, 'IT320': 95, 'CS100': 95}\t AverageGrade: 93.33333333333333\n"
          ]
        }
      ]
    },
    {
      "cell_type": "code",
      "source": [
        "classes_code = \"\"\"\n",
        "\n",
        "from datetime import date\n",
        "\n",
        "class Person:\n",
        "    def __init__(self, n, e, b):\n",
        "        self.__name = n\n",
        "        self.__email = None  # Inicializar el atributo email aquí\n",
        "        self.set_email(e)  # Llamar al método para validar y establecer el email\n",
        "        self.__age = self.calculateAge(b)\n",
        "\n",
        "    def calculateAge(self, b):\n",
        "        days_in_year = 365.2425\n",
        "        age = int((date.today() - b).days / days_in_year)\n",
        "        return age\n",
        "\n",
        "    def set_email(self, e):\n",
        "        if e.count(\"@\") == 1 and e.find(\"@\") >= 1 and e.find(\"@\") + 2 < e.rfind(\".\"):\n",
        "            self.__email = e\n",
        "        else:\n",
        "            print(\"Invalid Email\", e)\n",
        "\n",
        "    def get_email(self):\n",
        "        return self.__email\n",
        "\n",
        "    def get_name(self):\n",
        "        return self.__name\n",
        "\n",
        "    def set_name(self, n):\n",
        "        self.__name = n\n",
        "\n",
        "    def get_age(self):\n",
        "        return self.__age\n",
        "\n",
        "    def __eq__(self, other):\n",
        "        return self.__name == other.__name\n",
        "\n",
        "    def __str__(self):\n",
        "        return (\"name: \" + self.__name + '\\t email: ' + str(self.__email) + '\\t age: ' + str(self.__age))\n",
        "\n",
        "\n",
        "class Student(Person):\n",
        "    def __init__(self, n, e, b, ID):\n",
        "        super().__init__(n, e, b)\n",
        "        self.__SID = ID\n",
        "        self.__Courses = dict()\n",
        "        self.__AverageGrade = 0\n",
        "\n",
        "    def addCourses(self, CourseID, result):\n",
        "        self.__Courses[CourseID] = result\n",
        "        self.calculateAverage()\n",
        "\n",
        "    def calculateAverage(self):\n",
        "        if len(self.__Courses) > 0:\n",
        "            total = sum(self.__Courses.values())\n",
        "            self.__AverageGrade = total / len(self.__Courses)\n",
        "        else:\n",
        "            self.__AverageGrade = 0\n",
        "\n",
        "    def get_AverageGrade(self):\n",
        "        return self.__AverageGrade\n",
        "\n",
        "    def get_SID(self):\n",
        "        return self.__SID\n",
        "\n",
        "    def get_Courses(self):\n",
        "        return self.__Courses\n",
        "\n",
        "    def set_SID(self, ID):\n",
        "        self.__SID = ID\n",
        "\n",
        "    def __str__(self):\n",
        "        return (super().__str__() + '\\t SID: ' + str(self.__SID) + '\\t Courses: ' + str(self.__Courses) + '\\t AverageGrade: ' + str(self.__AverageGrade))\n",
        "\n",
        "    def __eq__(self, other):\n",
        "        return isinstance(other, Student) and self.__SID == other.__SID\n",
        "\n",
        "    def __lt__(self, other):\n",
        "        return self.__AverageGrade < other.__AverageGrade\n",
        "\n",
        "\"\"\"\n",
        "\n",
        "with open('classes.py', 'w') as f:\n",
        "    f.write(classes_code)"
      ],
      "metadata": {
        "id": "A-VH5zOv6n5d"
      },
      "execution_count": 6,
      "outputs": []
    },
    {
      "cell_type": "code",
      "source": [
        "# Crear el archivo test_classes.py\n",
        "\n",
        "test_code = \"\"\"\n",
        "import pytest\n",
        "from datetime import date\n",
        "from classes import Person, Student\n",
        "\n",
        "# Pruebas para la clase Person\n",
        "def test_person_creation():\n",
        "    person = Person(\"John Doe\", \"john.doe@example.com\", date(1990, 5, 20))\n",
        "    assert person.get_name() == \"John Doe\"\n",
        "    assert person.get_email() == \"john.doe@example.com\"\n",
        "    assert person.get_age() == person.calculateAge(date(1990, 5, 20))\n",
        "\n",
        "def test_person_email_validation():\n",
        "    person = Person(\"John Doe\", \"invalid_email\", date(1992, 3, 15))\n",
        "    assert person.get_email() is None  # No debe aceptar un correo inválido\n",
        "\n",
        "# Pruebas para la clase Student\n",
        "def test_student_creation():\n",
        "    student = Student(\"Alice\", \"alice@example.com\", date(2000, 1, 1), 12345)\n",
        "    assert student.get_name() == \"Alice\"\n",
        "    assert student.get_SID() == 12345\n",
        "    assert student.get_AverageGrade() == 0.0   # Recién creado no tiene notas\n",
        "\n",
        "def test_student_add_courses():\n",
        "    student = Student(\"Bob\", \"bob@example.com\", date(1998, 6, 12), 67890)\n",
        "    student.addCourses(\"CS101\", 90)\n",
        "    student.addCourses(\"Math101\", 85)\n",
        "    assert len(student.get_Courses()) == 2\n",
        "    assert student.get_AverageGrade() == 87.5\n",
        "\"\"\"\n",
        "\n",
        "# Escribir el código en el archivo test_classes.py\n",
        "with open('test_classes.py', 'w') as f:\n",
        "    f.write(test_code)\n"
      ],
      "metadata": {
        "id": "hxbTW69K60Ns"
      },
      "execution_count": 7,
      "outputs": []
    },
    {
      "cell_type": "markdown",
      "source": [
        "!ls"
      ],
      "metadata": {
        "id": "d99c3t5f62eZ"
      }
    },
    {
      "cell_type": "code",
      "source": [
        "!pip install pytest"
      ],
      "metadata": {
        "colab": {
          "base_uri": "https://localhost:8080/"
        },
        "id": "gYQPP3P863mK",
        "outputId": "2e7d202f-049e-41a5-be19-4232ff683a2b"
      },
      "execution_count": 8,
      "outputs": [
        {
          "output_type": "stream",
          "name": "stdout",
          "text": [
            "Requirement already satisfied: pytest in /usr/local/lib/python3.12/dist-packages (8.4.2)\n",
            "Requirement already satisfied: iniconfig>=1 in /usr/local/lib/python3.12/dist-packages (from pytest) (2.1.0)\n",
            "Requirement already satisfied: packaging>=20 in /usr/local/lib/python3.12/dist-packages (from pytest) (25.0)\n",
            "Requirement already satisfied: pluggy<2,>=1.5 in /usr/local/lib/python3.12/dist-packages (from pytest) (1.6.0)\n",
            "Requirement already satisfied: pygments>=2.7.2 in /usr/local/lib/python3.12/dist-packages (from pytest) (2.19.2)\n"
          ]
        }
      ]
    },
    {
      "cell_type": "code",
      "source": [
        "!pytest test_classes.py"
      ],
      "metadata": {
        "colab": {
          "base_uri": "https://localhost:8080/"
        },
        "id": "xaV2-WVX7A7s",
        "outputId": "e9b3c695-ed85-40dc-8ecf-632252134ac2"
      },
      "execution_count": 9,
      "outputs": [
        {
          "output_type": "stream",
          "name": "stdout",
          "text": [
            "\u001b[1m============================= test session starts ==============================\u001b[0m\n",
            "platform linux -- Python 3.12.12, pytest-8.4.2, pluggy-1.6.0\n",
            "rootdir: /content\n",
            "plugins: langsmith-0.4.35, typeguard-4.4.4, anyio-4.11.0\n",
            "\u001b[1mcollecting ... \u001b[0m\u001b[1m\rcollected 4 items                                                              \u001b[0m\n",
            "\n",
            "test_classes.py \u001b[32m.\u001b[0m\u001b[32m.\u001b[0m\u001b[32m.\u001b[0m\u001b[32m.\u001b[0m\u001b[32m                                                     [100%]\u001b[0m\n",
            "\n",
            "\u001b[32m============================== \u001b[32m\u001b[1m4 passed\u001b[0m\u001b[32m in 0.09s\u001b[0m\u001b[32m ===============================\u001b[0m\n"
          ]
        }
      ]
    }
  ]
}