{
  "nbformat": 4,
  "nbformat_minor": 0,
  "metadata": {
    "colab": {
      "provenance": [],
      "include_colab_link": true
    },
    "kernelspec": {
      "name": "python3",
      "display_name": "Python 3"
    },
    "language_info": {
      "name": "python"
    }
  },
  "cells": [
    {
      "cell_type": "markdown",
      "metadata": {
        "id": "view-in-github",
        "colab_type": "text"
      },
      "source": [
        "<a href=\"https://colab.research.google.com/github/sebasanchez3101-cell/trabajos-ciencia-de-datos/blob/main/python_Pythonic_brayan_tole_johan_sebastian.ipynb\" target=\"_parent\"><img src=\"https://colab.research.google.com/assets/colab-badge.svg\" alt=\"Open In Colab\"/></a>"
      ]
    },
    {
      "cell_type": "markdown",
      "source": [
        "#Johan Sebastian Y Brayan Tole"
      ],
      "metadata": {
        "id": "4xJsaYXOF9IK"
      }
    },
    {
      "cell_type": "markdown",
      "source": [
        "#Guia 1 : Filosofia Pythonic"
      ],
      "metadata": {
        "id": "uoZLex1z7OtJ"
      }
    },
    {
      "cell_type": "markdown",
      "source": [
        "##Principios del Zen of Python"
      ],
      "metadata": {
        "id": "gGGeQh9MBXWX"
      }
    },
    {
      "cell_type": "code",
      "source": [
        "import this\n"
      ],
      "metadata": {
        "id": "azGu90geBnxo",
        "colab": {
          "base_uri": "https://localhost:8080/"
        },
        "outputId": "2a80e324-b431-4674-a8f3-1d521f4f9db9",
        "collapsed": true
      },
      "execution_count": null,
      "outputs": [
        {
          "output_type": "stream",
          "name": "stdout",
          "text": [
            "The Zen of Python, by Tim Peters\n",
            "\n",
            "Beautiful is better than ugly.\n",
            "Explicit is better than implicit.\n",
            "Simple is better than complex.\n",
            "Complex is better than complicated.\n",
            "Flat is better than nested.\n",
            "Sparse is better than dense.\n",
            "Readability counts.\n",
            "Special cases aren't special enough to break the rules.\n",
            "Although practicality beats purity.\n",
            "Errors should never pass silently.\n",
            "Unless explicitly silenced.\n",
            "In the face of ambiguity, refuse the temptation to guess.\n",
            "There should be one-- and preferably only one --obvious way to do it.\n",
            "Although that way may not be obvious at first unless you're Dutch.\n",
            "Now is better than never.\n",
            "Although never is often better than *right* now.\n",
            "If the implementation is hard to explain, it's a bad idea.\n",
            "If the implementation is easy to explain, it may be a good idea.\n",
            "Namespaces are one honking great idea -- let's do more of those!\n"
          ]
        }
      ]
    },
    {
      "cell_type": "markdown",
      "source": [
        "#Iterar colecciones\n",
        "##Pythonic"
      ],
      "metadata": {
        "id": "e7_YqEiyB0uH"
      }
    },
    {
      "cell_type": "code",
      "source": [
        "for nombre in nombres:\n",
        "print(nombre)"
      ],
      "metadata": {
        "id": "Q1IUHuxaB25m"
      },
      "execution_count": null,
      "outputs": []
    },
    {
      "cell_type": "markdown",
      "source": [
        "#Formateo de cadenas\n",
        "##Pythonic"
      ],
      "metadata": {
        "id": "b2iJ9lACDrR0"
      }
    },
    {
      "cell_type": "code",
      "source": [
        "nombre, edad = \"Ana\", 21\n",
        "print(f\"Hola {nombre}, tienes {edad} años.\")\n"
      ],
      "metadata": {
        "id": "9y0d93KEDuf1"
      },
      "execution_count": null,
      "outputs": []
    },
    {
      "cell_type": "markdown",
      "source": [
        "#Intercambio de variables\n",
        "##Pythonic"
      ],
      "metadata": {
        "id": "XlydypyRHZ_B"
      }
    },
    {
      "cell_type": "code",
      "source": [
        "a, b = b, a\n"
      ],
      "metadata": {
        "id": "VD4neYiYHe-T"
      },
      "execution_count": null,
      "outputs": []
    },
    {
      "cell_type": "markdown",
      "source": [
        "#Construcción/filtrado de listas\n",
        "##Pythonic"
      ],
      "metadata": {
        "id": "2-Ff6LquHgp6"
      }
    },
    {
      "cell_type": "code",
      "source": [
        "cuadrados_pares = [x*x for x in range(10) if x % 2 == 0]\n"
      ],
      "metadata": {
        "id": "AkdhEYZwHkOL"
      },
      "execution_count": null,
      "outputs": []
    },
    {
      "cell_type": "markdown",
      "source": [
        "#Enumerar con índice y valor\n",
        "##Pythonic"
      ],
      "metadata": {
        "id": "75tMTAXJHnC6"
      }
    },
    {
      "cell_type": "code",
      "source": [
        "for i, valor in enumerate(datos, start=1):\n",
        "print(i, valor)\n"
      ],
      "metadata": {
        "id": "cxO9J7xlHpMa"
      },
      "execution_count": null,
      "outputs": []
    },
    {
      "cell_type": "markdown",
      "source": [
        "##Uso de funciones agregadas (Python)\n"
      ],
      "metadata": {
        "id": "EAB9CylsHrOy"
      }
    },
    {
      "cell_type": "code",
      "source": [
        "total = sum(precios)\n",
        "hay_negativos = any(x < 0 for x in valores)\n",
        "todos_enteros = all(isinstance(x, int) for x in valores)\n"
      ],
      "metadata": {
        "id": "xOr4qeXaHtXh"
      },
      "execution_count": null,
      "outputs": []
    },
    {
      "cell_type": "markdown",
      "source": [
        "#Usa nombres de variables descriptivos\n",
        "##Recomendado (descriptivo):"
      ],
      "metadata": {
        "id": "UjkPz44bKsDW"
      }
    },
    {
      "cell_type": "code",
      "source": [
        " # El nombre explica el propósito\n",
        " lista_de_clientes = obtener_datos_de_clientes()\n",
        " impuesto_aplicado = calcular_impuesto_total(lista_de_clientes,\n",
        " ,→ 0.15)"
      ],
      "metadata": {
        "id": "n24L5lHTKzlE"
      },
      "execution_count": null,
      "outputs": []
    },
    {
      "cell_type": "markdown",
      "source": [
        "# Principio DRY (Don’t Repeat Yourself)\n",
        "## Pythonic (reutilizable):"
      ],
      "metadata": {
        "id": "IWoJh8NtLqvo"
      }
    },
    {
      "cell_type": "code",
      "source": [
        " def calcular_precio_final(precio_base, descuento):\n",
        " \"\"\"Calcula el precio aplicando un descuento.\"\"\"\n",
        " return precio_base * (1- descuento)\n",
        " precio_final_a = calcular_precio_final(100, 0.1)\n",
        " precio_final_b = calcular_precio_final(250, 0.15)\n",
        " print(precio_final_a)\n",
        " print(precio_final_b)"
      ],
      "metadata": {
        "id": "hryV6m_ALs2u"
      },
      "execution_count": null,
      "outputs": []
    },
    {
      "cell_type": "markdown",
      "source": [
        "#Usar las estructuras de datos correctas\n",
        "## Usa with para manejar recursos"
      ],
      "metadata": {
        "id": "FnBZvkfOWilu"
      }
    },
    {
      "cell_type": "code",
      "source": [
        " with open(\"datos.txt\", \"r\") as f:\n",
        " contenido = f.read()\n",
        " # El archivo se cierra automáticamente aquí"
      ],
      "metadata": {
        "id": "4SLuX4FGWmFK"
      },
      "execution_count": null,
      "outputs": []
    },
    {
      "cell_type": "markdown",
      "source": [
        "## Prefiere Comprensiones a bucles for verbosos."
      ],
      "metadata": {
        "id": "20YiQupNWmxV"
      }
    },
    {
      "cell_type": "code",
      "source": [
        " # No Pythonic: bucle for para crear una lista de cuadrados\n",
        " cuadrados = []\n",
        " for i in range(10):\n",
        " cuadrados.append(i * i)\n",
        " # Pythonic: list comprehension\n",
        " uadrados = [i * i for i in range(10)]"
      ],
      "metadata": {
        "id": "0T6M4_UHWoTb"
      },
      "execution_count": null,
      "outputs": []
    },
    {
      "cell_type": "markdown",
      "source": [
        "#Manejo de errores explícito y específico\n",
        " ## Peligroso (oculta todos los errores)"
      ],
      "metadata": {
        "id": "B9y3jtmPWrXu"
      }
    },
    {
      "cell_type": "code",
      "source": [
        "try:\n",
        " edad = int(input(\"Introduce tuedad: \"))\n",
        " factor = 10 / edad\n",
        " except: # ¡MAL! Atrapa TypeError, ZeroDivisionError, etc.\n",
        " print(\"Ocurrió unerror.\")"
      ],
      "metadata": {
        "id": "jx2_ZvHmWs-A"
      },
      "execution_count": null,
      "outputs": []
    },
    {
      "cell_type": "markdown",
      "source": [
        "#Correcto (específico)"
      ],
      "metadata": {
        "id": "JO13Ge0LWwEp"
      }
    },
    {
      "cell_type": "code",
      "source": [
        " try:\n",
        " edad = int(input(\"Introduce tuedad: \"))\n",
        " factor = 10 / edad\n",
        " except ValueError:\n",
        " print(\"Error: Debesintroducir unnúmero válido.\")\n",
        " except ZeroDivisionError:\n",
        " print(\"Error: Laedadnopuedeser cero.\")\n",
        " # Un TypeError (si input devolviera algo inesperado) sí detendría el\n",
        " ,→ programa, ¡lo cual es bueno!"
      ],
      "metadata": {
        "id": "tVmzJ-uIW2_m"
      },
      "execution_count": null,
      "outputs": []
    },
    {
      "cell_type": "markdown",
      "source": [
        "#Parte II. Mini–taller Pythonic (10 ejercicios)\n",
        "## Ejercicio 1. Filtrar pares"
      ],
      "metadata": {
        "id": "0ITFhhAOgRON"
      }
    },
    {
      "cell_type": "code",
      "source": [
        "##Código base (no Pythonic):\n",
        " numeros = [1, 2, 3, 4, 5, 6]\n",
        " pares = []\n",
        " for i in range(len(numeros)):\n",
        " if numeros[i] % 2 == 0:\n",
        " pares.append(numeros[i])\n",
        " print(pares)\n",
        " ##Objetivo: Usa una list comprehension\n",
        " ##solucion\n",
        " numeros = [1, 2, 3, 4, 5, 6]\n",
        " pares = [n for n in numeros if n % 2 == 0]\n",
        " print(pares)"
      ],
      "metadata": {
        "id": "QU9VqOtSgT2W"
      },
      "execution_count": null,
      "outputs": []
    },
    {
      "cell_type": "markdown",
      "source": [
        "## Ejercicio 2. Recorrer lista con índice y valor"
      ],
      "metadata": {
        "id": "G7jx1aDKgnhF"
      }
    },
    {
      "cell_type": "code",
      "source": [
        "##Código base:\n",
        " frutas = [\"manzana\", \"pera\", \"uva\"]\n",
        " i = 0\n",
        " for f in frutas:\n",
        " print(i+1, f)\n",
        " i = i + 1\n",
        "## Objetivo: Usa enumerate con start=1.\n",
        "##solcion\n",
        "frutas = [\"manzana\", \"pera\", \"uva\"]\n",
        " for i, f in enumerate(frutas, start=1):\n",
        " print(i, f)"
      ],
      "metadata": {
        "id": "7I7GPHscgnUF"
      },
      "execution_count": null,
      "outputs": []
    },
    {
      "cell_type": "markdown",
      "source": [
        "##Ejercicio 3. Construir diccionario a partir de pares"
      ],
      "metadata": {
        "id": "09GIBc96gzfT"
      }
    },
    {
      "cell_type": "code",
      "source": [
        "## Código base:\n",
        " claves = [\"a\", \"b\", \"c\"]\n",
        " valores = [1, 2, 3]\n",
        " d = {}\n",
        " for i in range(len(claves)):\n",
        " d[claves[i]] = valores[i]\n",
        " print(d)\n",
        " ##Objetivo: Usa zip y dict.\n",
        " ##solucion\n",
        " claves = [\"a\", \"b\", \"c\"]\n",
        " valores = [1, 2, 3]\n",
        " d = dict(zip(claves, valores))\n",
        " print(d)"
      ],
      "metadata": {
        "id": "zYAfGni3gsZy"
      },
      "execution_count": null,
      "outputs": []
    },
    {
      "cell_type": "markdown",
      "source": [
        "## Ejercicio 4. Contar elementos que cumplen condición\n"
      ],
      "metadata": {
        "id": "Vf-zD8Axg5JB"
      }
    },
    {
      "cell_type": "code",
      "source": [
        "##Código base:\n",
        " nums = [5,-1, 3, 0, 7,-4]\n",
        " cont = 0\n",
        " for n in nums:\n",
        " if n > 0:\n",
        " cont = cont + 1\n",
        " print(cont)\n",
        " ##Objetivo: Usa sum con una expresión booleana.\n",
        " #solucion\n",
        "nums = [5,-1, 3, 0, 7,-4]\n",
        " cont = sum(n > 0 for n in nums)\n",
        " print(cont)"
      ],
      "metadata": {
        "id": "NxEPN9oFg7Ve"
      },
      "execution_count": null,
      "outputs": []
    },
    {
      "cell_type": "markdown",
      "source": [
        "## Ejercicio 5. Verificar si alguno cumple\n"
      ],
      "metadata": {
        "id": "u8zc9K5YhAg2"
      }
    },
    {
      "cell_type": "code",
      "source": [
        " ##Código base:\n",
        " texto = \"haynumeros 123\"\n",
        " flag = False\n",
        " for ch in texto:\n",
        " if ch.isdigit():\n",
        " flag = True\n",
        " break\n",
        " print(flag)\n",
        " ##Objetivo: Usa any.\n",
        " ##solucion\n",
        " texto = \"hay numeros 123\"\n",
        " flag = any(ch.isdigit() for ch in texto)\n",
        " print(flag)"
      ],
      "metadata": {
        "id": "sl4LJB21hD59"
      },
      "execution_count": null,
      "outputs": []
    },
    {
      "cell_type": "markdown",
      "source": [
        "##Ejercicio 6. Formateo de cadenas\n"
      ],
      "metadata": {
        "id": "keuwz9LQhIrf"
      }
    },
    {
      "cell_type": "code",
      "source": [
        " ##Código base:\n",
        " nombre = \"Ana\"\n",
        " edad = 21\n",
        " mensaje = \"Hola \" + nombre + \", tienes \" + str(edad) + \"\n",
        " ,→ años.\"\n",
        " print(mensaje)\n",
        " ##Objetivo: Usa f-strings.\n",
        " #solucion\n",
        " nombre, edad = \"Ana\", 21\n",
        " mensaje = f\"Hola {nombre},tienes{edad}años.\"\n",
        " print(mensaje)"
      ],
      "metadata": {
        "id": "QvRHGwKahKus"
      },
      "execution_count": null,
      "outputs": []
    },
    {
      "cell_type": "markdown",
      "source": [
        "## Ejercicio 7. Sumar valores por clave con dict.get\n"
      ],
      "metadata": {
        "id": "BxTLM0lDhRVx"
      }
    },
    {
      "cell_type": "code",
      "source": [
        "##Código base:\n",
        " items = [\"a\", \"b\", \"a\", \"c\", \"a\", \"b\"]\n",
        " cont = {}\n",
        " for x in items:\n",
        " if x in cont:\n",
        " cont[x] = cont[x] + 1\n",
        " else:\n",
        " cont[x] = 1\n",
        " print(cont)\n",
        " ##Objetivo: Usa dict.get (o collections.Counter).\n",
        " ##solucion\n",
        " items = [\"a\", \"b\", \"a\", \"c\", \"a\", \"b\"]\n",
        " cont = {}\n",
        " for x in items:\n",
        " cont[x] = cont.get(x, 0) + 1\n",
        " print(cont)\n",
        " # Alternativa idiomática:\n",
        " # from collections import Counter\n",
        " # cont = Counter(items)\n",
        " # print(cont)"
      ],
      "metadata": {
        "id": "sHgu8SPJhSVE"
      },
      "execution_count": null,
      "outputs": []
    },
    {
      "cell_type": "markdown",
      "source": [
        "## Ejercicio 8. Desempaquetado y swap\n"
      ],
      "metadata": {
        "id": "XLtMKcqThZAb"
      }
    },
    {
      "cell_type": "code",
      "source": [
        " ##Código base:\n",
        " a = 10\n",
        " b = 20\n",
        " temp = a\n",
        " a = b\n",
        " b = temp\n",
        " print(a, b)\n",
        " ##Objetivo: Usa a, b = b, a.\n",
        " ##solcuon a, b = 10, 20\n",
        " a, b = b, a\n",
        " print(a, b)"
      ],
      "metadata": {
        "id": "bNpb-0qHhayw"
      },
      "execution_count": null,
      "outputs": []
    },
    {
      "cell_type": "markdown",
      "source": [
        "## Ejercicio 9. Leer archivo y contar líneas\n"
      ],
      "metadata": {
        "id": "7pPmaVBThi2g"
      }
    },
    {
      "cell_type": "code",
      "source": [
        " ##Código base:\n",
        " f = open(\"datos.txt\", \"r\", encoding=\"utf-8\")\n",
        " lineas = f.readlines()\n",
        " f.close()\n",
        " print(len(lineas))\n",
        " ##Objetivo: Usa with open(...) y evita cargar todo en memoria.\n",
        " ##solucion\n",
        " contador = 0\n",
        " with open(\"datos.txt\", \"r\", encoding=\"utf-8\") as f:\n",
        " for _ in f:\n",
        " contador += 1\n",
        " print(contador)"
      ],
      "metadata": {
        "id": "GmIzWO5KhgW_"
      },
      "execution_count": null,
      "outputs": []
    },
    {
      "cell_type": "markdown",
      "source": [
        "## Ejercicio 10. Generar lista transformada con condición\n"
      ],
      "metadata": {
        "id": "TICVKssHhxtV"
      }
    },
    {
      "cell_type": "code",
      "source": [
        "##Código base:\n",
        " valores = [1, 2, 3, 4, 5]\n",
        " res = []\n",
        " for v in valores:\n",
        " if v % 2 == 0:\n",
        " res.append(v*v)\n",
        " print(res)\n",
        "## Objetivo: Usa list comprehension con filtro y mapeo.\n",
        "##soluciona\n",
        "valores = [1, 2, 3, 4, 5]\n",
        " res = [v*v for v in valores if v % 2 == 0]\n",
        " print(res)"
      ],
      "metadata": {
        "id": "1SaGlTD2hqtp"
      },
      "execution_count": null,
      "outputs": []
    },
    {
      "cell_type": "code",
      "source": [
        "def escribe_media():\n",
        "    media = (a + b) / 2\n",
        "    print(f\"La media de {a} y {b} es: {media}\")\n",
        "    return\n",
        "a = 3\n",
        "b = 5\n",
        "escribe_media()\n",
        "print(\"Programa terminado\")"
      ],
      "metadata": {
        "id": "odIzCnBuRrTu"
      },
      "execution_count": null,
      "outputs": []
    },
    {
      "cell_type": "code",
      "source": [
        "def suma(a, b):\n",
        "    return a + b\n",
        "resultado = suma(5, 3)"
      ],
      "metadata": {
        "id": "_uAruGqrSEt7"
      },
      "execution_count": null,
      "outputs": []
    },
    {
      "cell_type": "code",
      "source": [
        "def saludar(nombre=\"Mundo\"):\n",
        "    print(f\"Hola, {nombre}\")\n",
        "saludar() # Hola, Mundo\n",
        "saludar(\"Ana\") # Hola, Ana"
      ],
      "metadata": {
        "id": "fWPWbPrJSoRT"
      },
      "execution_count": null,
      "outputs": []
    },
    {
      "cell_type": "code",
      "source": [
        "def info(nombre, edad=25):\n",
        "    print(f\"{nombre}: {edad}\")\n",
        "info(edad=30, nombre=\"Luis\")"
      ],
      "metadata": {
        "id": "ETlHjysOYOjz"
      },
      "execution_count": null,
      "outputs": []
    },
    {
      "cell_type": "code",
      "source": [
        "def suma_varios(*args):\n",
        "    return sum(args)\n",
        "suma_varios(1, 2, 3) # 6\n"
      ],
      "metadata": {
        "id": "D7wycCphYUf0"
      },
      "execution_count": null,
      "outputs": []
    },
    {
      "cell_type": "code",
      "source": [
        "def mostrar_info(**kwargs):\n",
        "    for k, v in kwargs.items():\n",
        "        print(f\"{k}: {v}\")\n",
        "mostrar_info()"
      ],
      "metadata": {
        "id": "aLUxDKpLZ0jS"
      },
      "execution_count": null,
      "outputs": []
    }
  ]
}