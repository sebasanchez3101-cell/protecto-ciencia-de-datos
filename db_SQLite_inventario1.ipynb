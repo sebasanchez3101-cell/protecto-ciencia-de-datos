{
  "cells": [
    {
      "cell_type": "markdown",
      "metadata": {
        "id": "view-in-github",
        "colab_type": "text"
      },
      "source": [
        "<a href=\"https://colab.research.google.com/github/sebasanchez3101-cell/protecto-ciencia-de-datos/blob/main/db_SQLite_inventario1.ipynb\" target=\"_parent\"><img src=\"https://colab.research.google.com/assets/colab-badge.svg\" alt=\"Open In Colab\"/></a>"
      ]
    },
    {
      "cell_type": "markdown",
      "source": [
        "# Gestión Básica de Inventario con SQLite3\n",
        "\n",
        "**Autor:johan sebastian sanchez g..**\\\n",
        "Bogotá, Colombia \\\n",
        "Actualizado: 09/10/2025 \\\n",
        "_Nota: Código ajustado para su ejecución en Google Colaboratory_\\"
      ],
      "metadata": {
        "id": "f2MXIUZPOso4"
      }
    },
    {
      "cell_type": "markdown",
      "source": [
        "## Instalar librerías SQLite3"
      ],
      "metadata": {
        "id": "laA-zF3BcVua"
      }
    },
    {
      "cell_type": "code",
      "source": [
        "%%shell\n",
        "sudo apt-get install sqlite3\n",
        "# Ejecuta comandos de terminal.\n",
        "# Instala o verifica la instalación del motor de base de datos SQLite3 en el entorno.\n"
      ],
      "outputs": [
        {
          "output_type": "stream",
          "name": "stdout",
          "text": [
            "Reading package lists... Done\n",
            "Building dependency tree... Done\n",
            "Reading state information... Done\n",
            "sqlite3 is already the newest version (3.37.2-2ubuntu0.5).\n",
            "0 upgraded, 0 newly installed, 0 to remove and 38 not upgraded.\n"
          ]
        },
        {
          "output_type": "execute_result",
          "data": {
            "text/plain": []
          },
          "metadata": {},
          "execution_count": 43
        }
      ],
      "execution_count": 43,
      "metadata": {
        "colab": {
          "base_uri": "https://localhost:8080/"
        },
        "id": "wbdLGQB4aKzE",
        "outputId": "e611fb2b-f634-4414-de00-86d12b064bfe"
      }
    },
    {
      "cell_type": "markdown",
      "source": [
        "## Crear la base de datos y una tabla de inventario"
      ],
      "metadata": {
        "id": "d6FHzZpdcbVE"
      }
    },
    {
      "cell_type": "code",
      "source": [
        "import sqlite3\n",
        "import random\n",
        "\n",
        "# Crear la base de datos con SQlite\n",
        "conn = sqlite3.connect('productos.db')\n",
        "c = conn.cursor()\n",
        "# Crea un objeto cursor para poder ejecutar comandos SQL."
      ],
      "outputs": [],
      "execution_count": 44,
      "metadata": {
        "id": "neuXGqXlaQiT"
      }
    },
    {
      "cell_type": "markdown",
      "source": [
        "#parte 1\n",
        "## pregunta 1\n",
        "###Parte 1: Conceptos y Creación de la Base de Datos\n",
        "1. En la sección “Crear la base de datos y una tabla de inventario”, observe la\n",
        "línea sqlite3.connect('productos.db'). ¿Qué acción realiza este comando si el\n",
        "archivo productos.db no existe? ¿Y si ya existe?\n",
        "si el archivo no existe SQlite se conecta a la base de datos y el comando lo creara automaticamente en el directorio actual donde podra crear tablas y datos\n",
        "si el archivo ya existe:SQlite se conecto con la base de datos existentes permitiendo realizar operaciones sobre ella(consultas,insercione entre otras)\n",
        "\n",
        "\n",
        "2. En esa misma sección, se crea un \"cursor\" con c = conn.cursor(). ¿Cuál es la\n",
        "función de este objeto? ¿Por qué motivo no se ejecutan los comandos directamente\n",
        "sobre el objeto de conexión (conn)?\n",
        " El cursor es un objeto que permite interactuar con la base de datos. Se utiliza para ejecutar comandos SQL y recuperar los resultados. Actúa como un manejador para una única operación SQL la conexion representa la sesion con la base de datos pero los cursores son necesarios para mantener el estado de las operaciones  y pueden a ver varios a la vez\n"
      ],
      "metadata": {
        "id": "9GGMUXZ6u6UU"
      }
    },
    {
      "cell_type": "code",
      "source": [
        "import sqlite3\n",
        "\n",
        "# Conexión\n",
        "conn = sqlite3.connect('productos.db')\n",
        "c = conn.cursor()\n",
        "\n",
        "# Eliminar la tabla si existe\n",
        "c.execute('DROP TABLE IF EXISTS inventario')\n",
        "\n",
        "# Crear la tabla\n",
        "c.execute('''\n",
        "CREATE TABLE inventario (\n",
        "    id INTEGER PRIMARY KEY,\n",
        "    nombre TEXT,\n",
        "    categoria TEXT,\n",
        "    precio REAL,\n",
        "    cantidad INTEGER,\n",
        "    proveedor TEXT,\n",
        "    fecha_ingreso DATE,\n",
        "    ubicacion TEXT\n",
        ")\n",
        "''')\n",
        "\n",
        "# Confirmar y cerrar\n",
        "conn.commit()\n",
        "conn.close()\n",
        "\n",
        "print(\"Tabla creada exitosamente.\")"
      ],
      "outputs": [
        {
          "output_type": "stream",
          "name": "stdout",
          "text": [
            "Tabla creada exitosamente.\n"
          ]
        }
      ],
      "execution_count": 45,
      "metadata": {
        "colab": {
          "base_uri": "https://localhost:8080/"
        },
        "id": "HQYgyI21aYZx",
        "outputId": "adeea951-903d-465d-a50b-bebeea06bcd9"
      }
    },
    {
      "cell_type": "markdown",
      "source": [
        "##Parte 1: Conceptos y Creación de la Base de Datos\n",
        "3. Dentro del código para crear la tabla, la columna id se define como INTEGER\n",
        "PRIMARY KEY. ¿Qué dos funciones importantes cumple esta instrucción para\n",
        "dicha columna?\n",
        "esta actúa como un identificador único para cada fila de la tabla, asegurando que no existan dos registros con el mismo valor en dicha columna.esta columna se convierte internamente en un alias del campo especial ROWID, que SQLite utiliza para identificar de forma automática cada fila.\n"
      ],
      "metadata": {
        "id": "jwAg3Njz3tLg"
      }
    },
    {
      "cell_type": "code",
      "source": [
        "import sqlite3\n",
        "conn = sqlite3.connect('tu_base_de_datos.db')\n",
        "\n",
        "# Conexión\n",
        "# Conecta a una base de datos de ejemplo. Si 'tu_base_de_datos.db' no existe, la crea.\n",
        "c = conn.cursor()"
      ],
      "metadata": {
        "id": "bhWsh0cZnITF"
      },
      "execution_count": 46,
      "outputs": []
    },
    {
      "cell_type": "code",
      "source": [
        "c.execute(\"SELECT name FROM sqlite_master WHERE type='table'\")\n",
        "print(c.fetchall())\n",
        "# Consulta la tabla maestra de SQLite para listar todas las tablas creadas.\n",
        "# Recupera todos los resultados de la consulta"
      ],
      "metadata": {
        "colab": {
          "base_uri": "https://localhost:8080/"
        },
        "id": "WyFUPBpfrYs3",
        "outputId": "ac20ae88-c679-4a50-fa08-c5e3b27d766e"
      },
      "execution_count": 47,
      "outputs": [
        {
          "output_type": "stream",
          "name": "stdout",
          "text": [
            "[]\n"
          ]
        }
      ]
    },
    {
      "cell_type": "code",
      "source": [
        "import sqlite3\n",
        "import random\n",
        "import os\n",
        "\n",
        "# Eliminar la base de datos si está bloqueada (solo para pruebas)\n",
        "if os.path.exists('inventario.db'):\n",
        "    os.remove('inventario.db')\n",
        "\n",
        "# Conexión con timeout para evitar bloqueos\n",
        "conn = sqlite3.connect('inventario.db', timeout=10)\n",
        "c = conn.cursor()\n",
        "\n",
        "# Crear tabla\n",
        "c.execute('''\n",
        "    CREATE TABLE IF NOT EXISTS inventario (\n",
        "        id INTEGER PRIMARY KEY AUTOINCREMENT,\n",
        "        nombre TEXT,\n",
        "        categoria TEXT,\n",
        "        precio REAL,\n",
        "        cantidad INTEGER,\n",
        "        proveedor TEXT,\n",
        "        fecha_ingreso TEXT,\n",
        "        ubicacion TEXT\n",
        "    )\n",
        "''')\n",
        "\n",
        "# Función para generar productos de ejemplo\n",
        "def generar_producto():\n",
        "    nombres = [\"Producto\", \"Artículo\", \"Objeto\"]\n",
        "    categorias = [\"Electrónica\", \"Hogar\", \"Jardín\", \"Moda\", \"Deportes\"]\n",
        "    proveedores = [\"Proveedor1\", \"Proveedor2\", \"Proveedor3\"]\n",
        "    ubicaciones = [\"Almacén A\", \"Almacén B\", \"Almacén C\"]\n",
        "\n",
        "    nombre = random.choice(nombres) + str(random.randint(1, 10000))\n",
        "    categoria = random.choice(categorias)\n",
        "    precio = round(random.uniform(10.0, 500.0), 2)\n",
        "    cantidad = random.randint(1, 100)\n",
        "    proveedor = random.choice(proveedores)\n",
        "    fecha_ingreso = f\"2023-{random.randint(1, 12):02d}-{random.randint(1, 28):02d}\"\n",
        "    ubicacion = random.choice(ubicaciones)\n",
        "\n",
        "    return (nombre, categoria, precio, cantidad, proveedor, fecha_ingreso, ubicacion)\n",
        "\n",
        "# Generar y agregar 1000 productos\n",
        "productos = [generar_producto() for _ in range(1000)]\n",
        "\n",
        "# Inserción eficiente\n",
        "c.executemany('''\n",
        "    INSERT INTO inventario (nombre, categoria, precio, cantidad, proveedor, fecha_ingreso, ubicacion)\n",
        "    VALUES (?, ?, ?, ?, ?, ?, ?)\n",
        "''', productos)\n",
        "\n",
        "# Guardar y cerrar\n",
        "conn.commit()\n",
        "c.close()\n",
        "conn.close()\n",
        "\n",
        "print(\" ¡1000 productos insertados exitosamente!\")\n"
      ],
      "outputs": [
        {
          "output_type": "stream",
          "name": "stdout",
          "text": [
            " ¡1000 productos insertados exitosamente!\n"
          ]
        }
      ],
      "execution_count": 48,
      "metadata": {
        "id": "upCocXaeaf5a",
        "colab": {
          "base_uri": "https://localhost:8080/"
        },
        "outputId": "86655fb5-2123-468f-ca4a-a8ef6ed9d89e"
      }
    },
    {
      "cell_type": "markdown",
      "source": [
        "#Parte 2: Consultas y Análisis de Datos\n",
        "1. Escriba la consulta SQL necesaria para seleccionar únicamente las\n",
        "columnas nombre, categoria y precio de todos los productos que pertenecen\n",
        "al 'Proveedor1'."
      ],
      "metadata": {
        "id": "jcSvRM-i_zoo"
      }
    },
    {
      "cell_type": "code",
      "source": [
        "import sqlite3\n",
        "import pandas as pd\n",
        "\n",
        "# Conexión a la base de datos existente\n",
        "conn = sqlite3.connect('inventario.db')\n",
        "\n",
        "# Consulta solo los productos del proveedor 1\n",
        "query = \"SELECT * FROM inventario WHERE proveedor = 'Proveedor1'\"\n",
        "\n",
        "# Cargar los resultados en un DataFrame\n",
        "df = pd.read_sql_query(query, conn)\n",
        "\n",
        "# Cerrar la conexión\n",
        "conn.close()\n",
        "\n",
        "# Mostrar los primeros registros\n",
        "print(df.head())  # Muestra los primeros 5 productos del Proveedor1\n"
      ],
      "metadata": {
        "colab": {
          "base_uri": "https://localhost:8080/"
        },
        "id": "ngQgO5Cs_u39",
        "outputId": "b02a1989-8ef9-4cf1-d446-c6cccd3a11b5"
      },
      "execution_count": 49,
      "outputs": [
        {
          "output_type": "stream",
          "name": "stdout",
          "text": [
            "   id        nombre    categoria  precio  cantidad   proveedor fecha_ingreso  \\\n",
            "0   5   Artículo558  Electrónica  163.18        68  Proveedor1    2023-09-11   \n",
            "1  11  Producto3981        Hogar  440.12        48  Proveedor1    2023-04-02   \n",
            "2  17  Producto7713         Moda  243.06        23  Proveedor1    2023-11-28   \n",
            "3  23  Producto7515         Moda  287.62        13  Proveedor1    2023-12-22   \n",
            "4  25  Producto8903         Moda  475.74        45  Proveedor1    2023-12-09   \n",
            "\n",
            "   ubicacion  \n",
            "0  Almacén C  \n",
            "1  Almacén B  \n",
            "2  Almacén C  \n",
            "3  Almacén B  \n",
            "4  Almacén B  \n"
          ]
        }
      ]
    },
    {
      "cell_type": "markdown",
      "source": [
        "#Parte 1: Conceptos y Creación de la Base de Datos\n",
        "4. En el bloque de código que genera e inserta 10,000 productos, se\n",
        "utiliza c.executemany(). ¿Cuál es la principal ventaja de usar este método en lugar\n",
        "de un bucle for que llame a c.execute() repetidamente?\n",
        "El método executemany() en SQLite es más eficiente que usar un bucle for con varias llamadas a execute(), porque prepara la sentencia SQL una sola vez y la ejecuta con todos los valores de forma secuencial. Esto reduce la carga de trabajo, mejora la velocidad\n",
        "\n",
        "5. Al final del bloque que inserta los datos generados, se usan los\n",
        "comandos conn.commit() y conn.close(). ¿Qué sucedería con los datos si el\n",
        "programador olvidara incluir la línea conn.commit()?\n",
        "Si se olvida ejecutar conn.commit(), los cambios hechos en la base de datos no se guardan de forma permanente. SQLite mantiene las modificaciones en una transacción temporal y, al cerrar la conexión sin confirmar, realiza un rollback, es decir, revierte todo. Como resultado, los datos insertados o modificados se pierden."
      ],
      "metadata": {
        "id": "EwdGAXFt5mwy"
      }
    },
    {
      "cell_type": "code",
      "source": [
        "print(\"Base de datos creada y llenada con éxito.\")"
      ],
      "outputs": [
        {
          "output_type": "stream",
          "name": "stdout",
          "text": [
            "Base de datos creada y llenada con éxito.\n"
          ]
        }
      ],
      "execution_count": 50,
      "metadata": {
        "id": "FAiy3uukah4x",
        "colab": {
          "base_uri": "https://localhost:8080/"
        },
        "outputId": "6688d87a-83fc-4f06-aded-f8bef0b1a426"
      }
    },
    {
      "cell_type": "markdown",
      "source": [
        "## Consulta para mostrar todos los productos creados"
      ],
      "metadata": {
        "id": "H_lSmLx4cQXX"
      }
    },
    {
      "cell_type": "code",
      "source": [
        "import sqlite3\n",
        "\n",
        "# Conectar a la base de datos\n",
        "conn = sqlite3.connect('productos.db')\n",
        "c = conn.cursor()\n",
        "\n",
        "# Consultar todos los productos\n",
        "c.execute('SELECT * FROM inventario')\n",
        "productos = c.fetchall()\n",
        "\n",
        "# Imprimir los productos\n",
        "for producto in productos:\n",
        "    print(producto)\n",
        "\n",
        "# Cerrar la conexión\n",
        "conn.close()\n"
      ],
      "outputs": [],
      "execution_count": 51,
      "metadata": {
        "id": "VaeFcnAQcUP_"
      }
    },
    {
      "cell_type": "markdown",
      "source": [
        "## Realizar consulta y transferir a dataframe"
      ],
      "metadata": {
        "id": "4QZlyJXwdLMg"
      }
    },
    {
      "cell_type": "code",
      "source": [
        "import sqlite3\n",
        "import pandas as pd\n",
        "\n",
        "# Conectar a la base de datos\n",
        "conn = sqlite3.connect('productos.db')\n",
        "\n",
        "# Realizar la consulta y cargar los resultados en un DataFrame\n",
        "query = \"SELECT * FROM inventario WHERE precio > 450\"\n",
        "df_productos = pd.read_sql_query(query, conn)\n",
        "\n",
        "# Mostrar el DataFrame\n",
        "print(df_productos)\n",
        "\n",
        "# Cerrar la conexión\n",
        "conn.close()\n"
      ],
      "outputs": [
        {
          "output_type": "stream",
          "name": "stdout",
          "text": [
            "Empty DataFrame\n",
            "Columns: [id, nombre, categoria, precio, cantidad, proveedor, fecha_ingreso, ubicacion]\n",
            "Index: []\n"
          ]
        }
      ],
      "execution_count": 52,
      "metadata": {
        "id": "gC827caUdICL",
        "colab": {
          "base_uri": "https://localhost:8080/"
        },
        "outputId": "51f098ad-3bb7-4dd9-b155-4bdb4f8ca07c"
      }
    },
    {
      "cell_type": "markdown",
      "source": [
        "#Parte 2: Consultas y Análisis de Datos\n",
        "2. En la sección “Realizar consulta y transferir a dataframe”, se\n",
        "utiliza pd.read_sql_query(). ¿Qué ventajas ofrece este método de Pandas en\n",
        "comparación con el proceso visto en la sección “Consulta para mostrar todos los\n",
        "productos creados”?\n"
      ],
      "metadata": {
        "id": "e7Bszw6g6uBy"
      }
    },
    {
      "cell_type": "code",
      "source": [
        "# Muestra las primeras 5 filas del DataFrame 'df_productos'.\n",
        "# Es útil para verificar rápidamente el contenido y la estructura de los datos cargados.\n",
        "df_productos.head()"
      ],
      "outputs": [
        {
          "output_type": "execute_result",
          "data": {
            "text/plain": [
              "Empty DataFrame\n",
              "Columns: [id, nombre, categoria, precio, cantidad, proveedor, fecha_ingreso, ubicacion]\n",
              "Index: []"
            ],
            "text/html": [
              "\n",
              "  <div id=\"df-d8da9c4e-873f-4d98-8e30-40fc9b6ed25a\" class=\"colab-df-container\">\n",
              "    <div>\n",
              "<style scoped>\n",
              "    .dataframe tbody tr th:only-of-type {\n",
              "        vertical-align: middle;\n",
              "    }\n",
              "\n",
              "    .dataframe tbody tr th {\n",
              "        vertical-align: top;\n",
              "    }\n",
              "\n",
              "    .dataframe thead th {\n",
              "        text-align: right;\n",
              "    }\n",
              "</style>\n",
              "<table border=\"1\" class=\"dataframe\">\n",
              "  <thead>\n",
              "    <tr style=\"text-align: right;\">\n",
              "      <th></th>\n",
              "      <th>id</th>\n",
              "      <th>nombre</th>\n",
              "      <th>categoria</th>\n",
              "      <th>precio</th>\n",
              "      <th>cantidad</th>\n",
              "      <th>proveedor</th>\n",
              "      <th>fecha_ingreso</th>\n",
              "      <th>ubicacion</th>\n",
              "    </tr>\n",
              "  </thead>\n",
              "  <tbody>\n",
              "  </tbody>\n",
              "</table>\n",
              "</div>\n",
              "    <div class=\"colab-df-buttons\">\n",
              "\n",
              "  <div class=\"colab-df-container\">\n",
              "    <button class=\"colab-df-convert\" onclick=\"convertToInteractive('df-d8da9c4e-873f-4d98-8e30-40fc9b6ed25a')\"\n",
              "            title=\"Convert this dataframe to an interactive table.\"\n",
              "            style=\"display:none;\">\n",
              "\n",
              "  <svg xmlns=\"http://www.w3.org/2000/svg\" height=\"24px\" viewBox=\"0 -960 960 960\">\n",
              "    <path d=\"M120-120v-720h720v720H120Zm60-500h600v-160H180v160Zm220 220h160v-160H400v160Zm0 220h160v-160H400v160ZM180-400h160v-160H180v160Zm440 0h160v-160H620v160ZM180-180h160v-160H180v160Zm440 0h160v-160H620v160Z\"/>\n",
              "  </svg>\n",
              "    </button>\n",
              "\n",
              "  <style>\n",
              "    .colab-df-container {\n",
              "      display:flex;\n",
              "      gap: 12px;\n",
              "    }\n",
              "\n",
              "    .colab-df-convert {\n",
              "      background-color: #E8F0FE;\n",
              "      border: none;\n",
              "      border-radius: 50%;\n",
              "      cursor: pointer;\n",
              "      display: none;\n",
              "      fill: #1967D2;\n",
              "      height: 32px;\n",
              "      padding: 0 0 0 0;\n",
              "      width: 32px;\n",
              "    }\n",
              "\n",
              "    .colab-df-convert:hover {\n",
              "      background-color: #E2EBFA;\n",
              "      box-shadow: 0px 1px 2px rgba(60, 64, 67, 0.3), 0px 1px 3px 1px rgba(60, 64, 67, 0.15);\n",
              "      fill: #174EA6;\n",
              "    }\n",
              "\n",
              "    .colab-df-buttons div {\n",
              "      margin-bottom: 4px;\n",
              "    }\n",
              "\n",
              "    [theme=dark] .colab-df-convert {\n",
              "      background-color: #3B4455;\n",
              "      fill: #D2E3FC;\n",
              "    }\n",
              "\n",
              "    [theme=dark] .colab-df-convert:hover {\n",
              "      background-color: #434B5C;\n",
              "      box-shadow: 0px 1px 3px 1px rgba(0, 0, 0, 0.15);\n",
              "      filter: drop-shadow(0px 1px 2px rgba(0, 0, 0, 0.3));\n",
              "      fill: #FFFFFF;\n",
              "    }\n",
              "  </style>\n",
              "\n",
              "    <script>\n",
              "      const buttonEl =\n",
              "        document.querySelector('#df-d8da9c4e-873f-4d98-8e30-40fc9b6ed25a button.colab-df-convert');\n",
              "      buttonEl.style.display =\n",
              "        google.colab.kernel.accessAllowed ? 'block' : 'none';\n",
              "\n",
              "      async function convertToInteractive(key) {\n",
              "        const element = document.querySelector('#df-d8da9c4e-873f-4d98-8e30-40fc9b6ed25a');\n",
              "        const dataTable =\n",
              "          await google.colab.kernel.invokeFunction('convertToInteractive',\n",
              "                                                    [key], {});\n",
              "        if (!dataTable) return;\n",
              "\n",
              "        const docLinkHtml = 'Like what you see? Visit the ' +\n",
              "          '<a target=\"_blank\" href=https://colab.research.google.com/notebooks/data_table.ipynb>data table notebook</a>'\n",
              "          + ' to learn more about interactive tables.';\n",
              "        element.innerHTML = '';\n",
              "        dataTable['output_type'] = 'display_data';\n",
              "        await google.colab.output.renderOutput(dataTable, element);\n",
              "        const docLink = document.createElement('div');\n",
              "        docLink.innerHTML = docLinkHtml;\n",
              "        element.appendChild(docLink);\n",
              "      }\n",
              "    </script>\n",
              "  </div>\n",
              "\n",
              "\n",
              "    </div>\n",
              "  </div>\n"
            ],
            "application/vnd.google.colaboratory.intrinsic+json": {
              "type": "dataframe",
              "variable_name": "df_productos",
              "repr_error": "Out of range float values are not JSON compliant: nan"
            }
          },
          "metadata": {},
          "execution_count": 53
        }
      ],
      "execution_count": 53,
      "metadata": {
        "id": "Ih42i2lNdaIj",
        "colab": {
          "base_uri": "https://localhost:8080/",
          "height": 53
        },
        "outputId": "a542bd67-6599-4e52-d5ef-aca7136842b2"
      }
    },
    {
      "cell_type": "markdown",
      "source": [
        "## Nueva consulta"
      ],
      "metadata": {
        "id": "C1QoVZ4WkTDw"
      }
    },
    {
      "cell_type": "code",
      "source": [
        "import sqlite3\n",
        "import pandas as pd\n",
        "\n",
        "# Conectar a la base de datos\n",
        "conn = sqlite3.connect('productos.db')\n",
        "\n",
        "# Realizar la consulta y cargar los resultados en un DataFrame\n",
        "query = \"SELECT * FROM inventario WHERE precio > 480 AND cantidad <5\"\n",
        "df_productos = pd.read_sql_query(query, conn)\n",
        "\n",
        "# Mostrar el DataFrame\n",
        "print(df_productos)\n",
        "\n",
        "\n",
        "# Cerrar la conexión\n",
        "conn.close()"
      ],
      "outputs": [
        {
          "output_type": "stream",
          "name": "stdout",
          "text": [
            "Empty DataFrame\n",
            "Columns: [id, nombre, categoria, precio, cantidad, proveedor, fecha_ingreso, ubicacion]\n",
            "Index: []\n"
          ]
        }
      ],
      "execution_count": 54,
      "metadata": {
        "id": "S142IZd7kRzS",
        "colab": {
          "base_uri": "https://localhost:8080/"
        },
        "outputId": "a22987f1-9f50-403b-90c6-dc1896437b72"
      }
    },
    {
      "cell_type": "markdown",
      "source": [
        "El método pd.read_sql_query() convierte directamente los resultados de una consulta SQL en un DataFrame de Pandas, lo que facilita el análisis de datos. Además, detecta automáticamente los tipos de datos, evita recorrer los resultados manualmente y permite usar todas las herramientas de Pandas para filtrar, analizar y visualizar la información con mayor facilidad."
      ],
      "metadata": {
        "id": "haHmdLS3B7Im"
      }
    },
    {
      "cell_type": "markdown",
      "source": [
        "3. En la sección “Nueva consulta”, modifique la variable query para que, en lugar de\n",
        "mostrar productos con precio > 450 Y cantidad > 25, muestre aquellos que cumplan\n",
        "la condición precio > 480 O cantidad < 5."
      ],
      "metadata": {
        "id": "u-2FGL2CBWgL"
      }
    },
    {
      "cell_type": "markdown",
      "source": [
        "## Insertar nuevo producto"
      ],
      "metadata": {
        "id": "MKatLhQazUz1"
      }
    },
    {
      "cell_type": "code",
      "source": [
        "# Datos del nuevo producto\n",
        "nuevo_producto = (\n",
        "    None,  # SQLite genera un nuevo id automáticamente si la columna es autoincrement\n",
        "    'NuevoProducto123',\n",
        "    'Electrónica',\n",
        "    249.99,\n",
        "    20,\n",
        "    'ProveedorX',\n",
        "    '2024-04-16',\n",
        "    'Almacén D'\n",
        ")\n",
        "\n",
        "# Conexión con la DB\n",
        "conn = sqlite3.connect('productos.db')\n",
        "c = conn.cursor()\n",
        "\n",
        "# Insersión de nuevo producto\n",
        "c.execute('INSERT INTO inventario VALUES (?, ?, ?, ?, ?, ?, ?, ?)', nuevo_producto)\n",
        "\n",
        "# Guardar (commit) los cambios y cerrar conexión con la DB\n",
        "conn.commit()\n",
        "conn.close()"
      ],
      "outputs": [],
      "execution_count": 55,
      "metadata": {
        "id": "r7romyRmzZ-3"
      }
    },
    {
      "cell_type": "markdown",
      "source": [
        "#Parte 3: Manipulación de Datos y Depuración\n",
        "1. En la sección “Insertar nuevo producto”, al ejecutar la inserción se usan signos de\n",
        "interrogación (?) como marcadores de posición. ¿Por qué se considera una buena\n",
        "práctica de seguridad usar estos marcadores?\n",
        "Usar marcadores ? mejora la seguridad, evitando la inyección SQL al separar los datos del código. Además, hace el código más claro y reutilizable, ya que se puede usar la misma sentencia con diferentes valores."
      ],
      "metadata": {
        "id": "3Edr3NFgDWv9"
      }
    },
    {
      "cell_type": "markdown",
      "source": [
        "## Insertar nuevo producto desde Excel"
      ],
      "metadata": {
        "id": "jmdRurI_1GMz"
      }
    },
    {
      "cell_type": "markdown",
      "source": [
        "### Crear tabla excel de nuevos productos\n"
      ],
      "metadata": {
        "id": "JsMvOsZa1KCq"
      }
    },
    {
      "cell_type": "code",
      "source": [
        "import pandas as pd\n",
        "import numpy as np\n",
        "from datetime import datetime, timedelta\n",
        "\n",
        "np.random.seed(0)\n",
        "num_prods = 5000\n",
        "\n",
        "# Productos nuevos\n",
        "nombres = ['Producto' + str(i) for i in range(num_prods)]\n",
        "categorias = np.random.choice(['Electrónica', 'Hogar', 'Jardín', 'Moda', 'Deportes'], num_prods)\n",
        "precios = np.round(np.random.uniform(10.0, 500.0, num_prods), 2)\n",
        "cantidades = np.random.randint(1, 100, num_prods)\n",
        "proveedores = np.random.choice(['Proveedor1', 'Proveedor2', 'Proveedor3'], num_prods)\n",
        "fechas = [datetime.today() - timedelta(days=np.random.randint(0, 365)) for _ in range(num_prods)]\n",
        "ubicaciones = np.random.choice(['Almacén A', 'Almacén B', 'Almacén C'], num_prods)\n",
        "\n",
        "# DataFrame\n",
        "df = pd.DataFrame({\n",
        "    'Nombre': nombres,\n",
        "    'Categoría': categorias,\n",
        "    'Precio': precios,\n",
        "    'Cantidad': cantidades,\n",
        "    'Proveedor': proveedores,\n",
        "    'Fecha de Ingreso': pd.to_datetime(fechas),\n",
        "    'Ubicación': ubicaciones\n",
        "})\n",
        "\n",
        "print(df.head())\n",
        "\n",
        "# Guardar el DataFrame en un archivo Excel\n",
        "df.to_excel('nuevos_productos_inventario.xlsx', index=False)"
      ],
      "outputs": [
        {
          "output_type": "stream",
          "name": "stdout",
          "text": [
            "      Nombre    Categoría  Precio  Cantidad   Proveedor  \\\n",
            "0  Producto0     Deportes  489.97        77  Proveedor1   \n",
            "1  Producto1  Electrónica  347.86        78  Proveedor3   \n",
            "2  Producto2         Moda   10.40        93  Proveedor2   \n",
            "3  Producto3         Moda  402.25        51  Proveedor3   \n",
            "4  Producto4         Moda  445.18        50  Proveedor1   \n",
            "\n",
            "            Fecha de Ingreso  Ubicación  \n",
            "0 2025-06-06 04:39:57.272334  Almacén B  \n",
            "1 2025-03-11 04:39:57.272380  Almacén C  \n",
            "2 2024-12-17 04:39:57.272396  Almacén B  \n",
            "3 2025-08-14 04:39:57.272408  Almacén A  \n",
            "4 2024-11-30 04:39:57.272418  Almacén A  \n"
          ]
        }
      ],
      "execution_count": 56,
      "metadata": {
        "id": "3QXN2GvU1NP4",
        "colab": {
          "base_uri": "https://localhost:8080/"
        },
        "outputId": "83379075-e1bf-4750-cae9-1e877ab811ac"
      }
    },
    {
      "cell_type": "markdown",
      "source": [],
      "metadata": {
        "id": "sNoxM0A6Del6"
      }
    },
    {
      "cell_type": "markdown",
      "source": [
        "### Agregar datos de tabla excel al inventario"
      ],
      "metadata": {
        "id": "-jHGLEnc1r1-"
      }
    },
    {
      "cell_type": "code",
      "source": [
        "import pandas as pd\n",
        "\n",
        "# Leer archivo Excel\n",
        "ruta_archivo = '/content/nuevos_productos_inventario.xlsx'\n",
        "df = pd.read_excel(ruta_archivo)\n",
        "\n",
        "# Verificación de formatos (tipo de dato)\n",
        "# Precio a float\n",
        "if df['Precio'].dtype != 'float':\n",
        "    df['Precio'] = df['Precio'].astype(float)\n",
        "\n",
        "# Fecha de Ingreso a datetime\n",
        "if df['Fecha de Ingreso'].dtype != 'datetime64[ns]':\n",
        "    df['Fecha de Ingreso'] = pd.to_datetime(df['Fecha de Ingreso'], errors='coerce')\n",
        "\n",
        "# Verificar y corregir fechas no válidas, usando la fecha de hoy\n",
        "df['Fecha de Ingreso'].fillna(pd.Timestamp.today(), inplace=True)\n",
        "\n",
        "df.head()"
      ],
      "outputs": [
        {
          "output_type": "stream",
          "name": "stderr",
          "text": [
            "/tmp/ipython-input-1041989223.py:17: FutureWarning: A value is trying to be set on a copy of a DataFrame or Series through chained assignment using an inplace method.\n",
            "The behavior will change in pandas 3.0. This inplace method will never work because the intermediate object on which we are setting values always behaves as a copy.\n",
            "\n",
            "For example, when doing 'df[col].method(value, inplace=True)', try using 'df.method({col: value}, inplace=True)' or df[col] = df[col].method(value) instead, to perform the operation inplace on the original object.\n",
            "\n",
            "\n",
            "  df['Fecha de Ingreso'].fillna(pd.Timestamp.today(), inplace=True)\n"
          ]
        },
        {
          "output_type": "execute_result",
          "data": {
            "text/plain": [
              "      Nombre    Categoría  Precio  Cantidad   Proveedor  \\\n",
              "0  Producto0     Deportes  489.97        77  Proveedor1   \n",
              "1  Producto1  Electrónica  347.86        78  Proveedor3   \n",
              "2  Producto2         Moda   10.40        93  Proveedor2   \n",
              "3  Producto3         Moda  402.25        51  Proveedor3   \n",
              "4  Producto4         Moda  445.18        50  Proveedor1   \n",
              "\n",
              "         Fecha de Ingreso  Ubicación  \n",
              "0 2025-06-06 04:39:57.272  Almacén B  \n",
              "1 2025-03-11 04:39:57.272  Almacén C  \n",
              "2 2024-12-17 04:39:57.272  Almacén B  \n",
              "3 2025-08-14 04:39:57.272  Almacén A  \n",
              "4 2024-11-30 04:39:57.272  Almacén A  "
            ],
            "text/html": [
              "\n",
              "  <div id=\"df-fb024b8c-f00a-4194-a6c2-37e803d92a2d\" class=\"colab-df-container\">\n",
              "    <div>\n",
              "<style scoped>\n",
              "    .dataframe tbody tr th:only-of-type {\n",
              "        vertical-align: middle;\n",
              "    }\n",
              "\n",
              "    .dataframe tbody tr th {\n",
              "        vertical-align: top;\n",
              "    }\n",
              "\n",
              "    .dataframe thead th {\n",
              "        text-align: right;\n",
              "    }\n",
              "</style>\n",
              "<table border=\"1\" class=\"dataframe\">\n",
              "  <thead>\n",
              "    <tr style=\"text-align: right;\">\n",
              "      <th></th>\n",
              "      <th>Nombre</th>\n",
              "      <th>Categoría</th>\n",
              "      <th>Precio</th>\n",
              "      <th>Cantidad</th>\n",
              "      <th>Proveedor</th>\n",
              "      <th>Fecha de Ingreso</th>\n",
              "      <th>Ubicación</th>\n",
              "    </tr>\n",
              "  </thead>\n",
              "  <tbody>\n",
              "    <tr>\n",
              "      <th>0</th>\n",
              "      <td>Producto0</td>\n",
              "      <td>Deportes</td>\n",
              "      <td>489.97</td>\n",
              "      <td>77</td>\n",
              "      <td>Proveedor1</td>\n",
              "      <td>2025-06-06 04:39:57.272</td>\n",
              "      <td>Almacén B</td>\n",
              "    </tr>\n",
              "    <tr>\n",
              "      <th>1</th>\n",
              "      <td>Producto1</td>\n",
              "      <td>Electrónica</td>\n",
              "      <td>347.86</td>\n",
              "      <td>78</td>\n",
              "      <td>Proveedor3</td>\n",
              "      <td>2025-03-11 04:39:57.272</td>\n",
              "      <td>Almacén C</td>\n",
              "    </tr>\n",
              "    <tr>\n",
              "      <th>2</th>\n",
              "      <td>Producto2</td>\n",
              "      <td>Moda</td>\n",
              "      <td>10.40</td>\n",
              "      <td>93</td>\n",
              "      <td>Proveedor2</td>\n",
              "      <td>2024-12-17 04:39:57.272</td>\n",
              "      <td>Almacén B</td>\n",
              "    </tr>\n",
              "    <tr>\n",
              "      <th>3</th>\n",
              "      <td>Producto3</td>\n",
              "      <td>Moda</td>\n",
              "      <td>402.25</td>\n",
              "      <td>51</td>\n",
              "      <td>Proveedor3</td>\n",
              "      <td>2025-08-14 04:39:57.272</td>\n",
              "      <td>Almacén A</td>\n",
              "    </tr>\n",
              "    <tr>\n",
              "      <th>4</th>\n",
              "      <td>Producto4</td>\n",
              "      <td>Moda</td>\n",
              "      <td>445.18</td>\n",
              "      <td>50</td>\n",
              "      <td>Proveedor1</td>\n",
              "      <td>2024-11-30 04:39:57.272</td>\n",
              "      <td>Almacén A</td>\n",
              "    </tr>\n",
              "  </tbody>\n",
              "</table>\n",
              "</div>\n",
              "    <div class=\"colab-df-buttons\">\n",
              "\n",
              "  <div class=\"colab-df-container\">\n",
              "    <button class=\"colab-df-convert\" onclick=\"convertToInteractive('df-fb024b8c-f00a-4194-a6c2-37e803d92a2d')\"\n",
              "            title=\"Convert this dataframe to an interactive table.\"\n",
              "            style=\"display:none;\">\n",
              "\n",
              "  <svg xmlns=\"http://www.w3.org/2000/svg\" height=\"24px\" viewBox=\"0 -960 960 960\">\n",
              "    <path d=\"M120-120v-720h720v720H120Zm60-500h600v-160H180v160Zm220 220h160v-160H400v160Zm0 220h160v-160H400v160ZM180-400h160v-160H180v160Zm440 0h160v-160H620v160ZM180-180h160v-160H180v160Zm440 0h160v-160H620v160Z\"/>\n",
              "  </svg>\n",
              "    </button>\n",
              "\n",
              "  <style>\n",
              "    .colab-df-container {\n",
              "      display:flex;\n",
              "      gap: 12px;\n",
              "    }\n",
              "\n",
              "    .colab-df-convert {\n",
              "      background-color: #E8F0FE;\n",
              "      border: none;\n",
              "      border-radius: 50%;\n",
              "      cursor: pointer;\n",
              "      display: none;\n",
              "      fill: #1967D2;\n",
              "      height: 32px;\n",
              "      padding: 0 0 0 0;\n",
              "      width: 32px;\n",
              "    }\n",
              "\n",
              "    .colab-df-convert:hover {\n",
              "      background-color: #E2EBFA;\n",
              "      box-shadow: 0px 1px 2px rgba(60, 64, 67, 0.3), 0px 1px 3px 1px rgba(60, 64, 67, 0.15);\n",
              "      fill: #174EA6;\n",
              "    }\n",
              "\n",
              "    .colab-df-buttons div {\n",
              "      margin-bottom: 4px;\n",
              "    }\n",
              "\n",
              "    [theme=dark] .colab-df-convert {\n",
              "      background-color: #3B4455;\n",
              "      fill: #D2E3FC;\n",
              "    }\n",
              "\n",
              "    [theme=dark] .colab-df-convert:hover {\n",
              "      background-color: #434B5C;\n",
              "      box-shadow: 0px 1px 3px 1px rgba(0, 0, 0, 0.15);\n",
              "      filter: drop-shadow(0px 1px 2px rgba(0, 0, 0, 0.3));\n",
              "      fill: #FFFFFF;\n",
              "    }\n",
              "  </style>\n",
              "\n",
              "    <script>\n",
              "      const buttonEl =\n",
              "        document.querySelector('#df-fb024b8c-f00a-4194-a6c2-37e803d92a2d button.colab-df-convert');\n",
              "      buttonEl.style.display =\n",
              "        google.colab.kernel.accessAllowed ? 'block' : 'none';\n",
              "\n",
              "      async function convertToInteractive(key) {\n",
              "        const element = document.querySelector('#df-fb024b8c-f00a-4194-a6c2-37e803d92a2d');\n",
              "        const dataTable =\n",
              "          await google.colab.kernel.invokeFunction('convertToInteractive',\n",
              "                                                    [key], {});\n",
              "        if (!dataTable) return;\n",
              "\n",
              "        const docLinkHtml = 'Like what you see? Visit the ' +\n",
              "          '<a target=\"_blank\" href=https://colab.research.google.com/notebooks/data_table.ipynb>data table notebook</a>'\n",
              "          + ' to learn more about interactive tables.';\n",
              "        element.innerHTML = '';\n",
              "        dataTable['output_type'] = 'display_data';\n",
              "        await google.colab.output.renderOutput(dataTable, element);\n",
              "        const docLink = document.createElement('div');\n",
              "        docLink.innerHTML = docLinkHtml;\n",
              "        element.appendChild(docLink);\n",
              "      }\n",
              "    </script>\n",
              "  </div>\n",
              "\n",
              "\n",
              "    <div id=\"df-cd47843e-6da9-440d-a45c-bd478e81ae15\">\n",
              "      <button class=\"colab-df-quickchart\" onclick=\"quickchart('df-cd47843e-6da9-440d-a45c-bd478e81ae15')\"\n",
              "                title=\"Suggest charts\"\n",
              "                style=\"display:none;\">\n",
              "\n",
              "<svg xmlns=\"http://www.w3.org/2000/svg\" height=\"24px\"viewBox=\"0 0 24 24\"\n",
              "     width=\"24px\">\n",
              "    <g>\n",
              "        <path d=\"M19 3H5c-1.1 0-2 .9-2 2v14c0 1.1.9 2 2 2h14c1.1 0 2-.9 2-2V5c0-1.1-.9-2-2-2zM9 17H7v-7h2v7zm4 0h-2V7h2v10zm4 0h-2v-4h2v4z\"/>\n",
              "    </g>\n",
              "</svg>\n",
              "      </button>\n",
              "\n",
              "<style>\n",
              "  .colab-df-quickchart {\n",
              "      --bg-color: #E8F0FE;\n",
              "      --fill-color: #1967D2;\n",
              "      --hover-bg-color: #E2EBFA;\n",
              "      --hover-fill-color: #174EA6;\n",
              "      --disabled-fill-color: #AAA;\n",
              "      --disabled-bg-color: #DDD;\n",
              "  }\n",
              "\n",
              "  [theme=dark] .colab-df-quickchart {\n",
              "      --bg-color: #3B4455;\n",
              "      --fill-color: #D2E3FC;\n",
              "      --hover-bg-color: #434B5C;\n",
              "      --hover-fill-color: #FFFFFF;\n",
              "      --disabled-bg-color: #3B4455;\n",
              "      --disabled-fill-color: #666;\n",
              "  }\n",
              "\n",
              "  .colab-df-quickchart {\n",
              "    background-color: var(--bg-color);\n",
              "    border: none;\n",
              "    border-radius: 50%;\n",
              "    cursor: pointer;\n",
              "    display: none;\n",
              "    fill: var(--fill-color);\n",
              "    height: 32px;\n",
              "    padding: 0;\n",
              "    width: 32px;\n",
              "  }\n",
              "\n",
              "  .colab-df-quickchart:hover {\n",
              "    background-color: var(--hover-bg-color);\n",
              "    box-shadow: 0 1px 2px rgba(60, 64, 67, 0.3), 0 1px 3px 1px rgba(60, 64, 67, 0.15);\n",
              "    fill: var(--button-hover-fill-color);\n",
              "  }\n",
              "\n",
              "  .colab-df-quickchart-complete:disabled,\n",
              "  .colab-df-quickchart-complete:disabled:hover {\n",
              "    background-color: var(--disabled-bg-color);\n",
              "    fill: var(--disabled-fill-color);\n",
              "    box-shadow: none;\n",
              "  }\n",
              "\n",
              "  .colab-df-spinner {\n",
              "    border: 2px solid var(--fill-color);\n",
              "    border-color: transparent;\n",
              "    border-bottom-color: var(--fill-color);\n",
              "    animation:\n",
              "      spin 1s steps(1) infinite;\n",
              "  }\n",
              "\n",
              "  @keyframes spin {\n",
              "    0% {\n",
              "      border-color: transparent;\n",
              "      border-bottom-color: var(--fill-color);\n",
              "      border-left-color: var(--fill-color);\n",
              "    }\n",
              "    20% {\n",
              "      border-color: transparent;\n",
              "      border-left-color: var(--fill-color);\n",
              "      border-top-color: var(--fill-color);\n",
              "    }\n",
              "    30% {\n",
              "      border-color: transparent;\n",
              "      border-left-color: var(--fill-color);\n",
              "      border-top-color: var(--fill-color);\n",
              "      border-right-color: var(--fill-color);\n",
              "    }\n",
              "    40% {\n",
              "      border-color: transparent;\n",
              "      border-right-color: var(--fill-color);\n",
              "      border-top-color: var(--fill-color);\n",
              "    }\n",
              "    60% {\n",
              "      border-color: transparent;\n",
              "      border-right-color: var(--fill-color);\n",
              "    }\n",
              "    80% {\n",
              "      border-color: transparent;\n",
              "      border-right-color: var(--fill-color);\n",
              "      border-bottom-color: var(--fill-color);\n",
              "    }\n",
              "    90% {\n",
              "      border-color: transparent;\n",
              "      border-bottom-color: var(--fill-color);\n",
              "    }\n",
              "  }\n",
              "</style>\n",
              "\n",
              "      <script>\n",
              "        async function quickchart(key) {\n",
              "          const quickchartButtonEl =\n",
              "            document.querySelector('#' + key + ' button');\n",
              "          quickchartButtonEl.disabled = true;  // To prevent multiple clicks.\n",
              "          quickchartButtonEl.classList.add('colab-df-spinner');\n",
              "          try {\n",
              "            const charts = await google.colab.kernel.invokeFunction(\n",
              "                'suggestCharts', [key], {});\n",
              "          } catch (error) {\n",
              "            console.error('Error during call to suggestCharts:', error);\n",
              "          }\n",
              "          quickchartButtonEl.classList.remove('colab-df-spinner');\n",
              "          quickchartButtonEl.classList.add('colab-df-quickchart-complete');\n",
              "        }\n",
              "        (() => {\n",
              "          let quickchartButtonEl =\n",
              "            document.querySelector('#df-cd47843e-6da9-440d-a45c-bd478e81ae15 button');\n",
              "          quickchartButtonEl.style.display =\n",
              "            google.colab.kernel.accessAllowed ? 'block' : 'none';\n",
              "        })();\n",
              "      </script>\n",
              "    </div>\n",
              "\n",
              "    </div>\n",
              "  </div>\n"
            ],
            "application/vnd.google.colaboratory.intrinsic+json": {
              "type": "dataframe",
              "variable_name": "df",
              "summary": "{\n  \"name\": \"df\",\n  \"rows\": 5000,\n  \"fields\": [\n    {\n      \"column\": \"Nombre\",\n      \"properties\": {\n        \"dtype\": \"string\",\n        \"num_unique_values\": 5000,\n        \"samples\": [\n          \"Producto1501\",\n          \"Producto2586\",\n          \"Producto2653\"\n        ],\n        \"semantic_type\": \"\",\n        \"description\": \"\"\n      }\n    },\n    {\n      \"column\": \"Categor\\u00eda\",\n      \"properties\": {\n        \"dtype\": \"category\",\n        \"num_unique_values\": 5,\n        \"samples\": [\n          \"Electr\\u00f3nica\",\n          \"Jard\\u00edn\",\n          \"Moda\"\n        ],\n        \"semantic_type\": \"\",\n        \"description\": \"\"\n      }\n    },\n    {\n      \"column\": \"Precio\",\n      \"properties\": {\n        \"dtype\": \"number\",\n        \"std\": 140.54474880481456,\n        \"min\": 10.01,\n        \"max\": 499.95,\n        \"num_unique_values\": 4741,\n        \"samples\": [\n          217.68,\n          278.09,\n          258.75\n        ],\n        \"semantic_type\": \"\",\n        \"description\": \"\"\n      }\n    },\n    {\n      \"column\": \"Cantidad\",\n      \"properties\": {\n        \"dtype\": \"number\",\n        \"std\": 28,\n        \"min\": 1,\n        \"max\": 99,\n        \"num_unique_values\": 99,\n        \"samples\": [\n          4,\n          85,\n          94\n        ],\n        \"semantic_type\": \"\",\n        \"description\": \"\"\n      }\n    },\n    {\n      \"column\": \"Proveedor\",\n      \"properties\": {\n        \"dtype\": \"category\",\n        \"num_unique_values\": 3,\n        \"samples\": [\n          \"Proveedor1\",\n          \"Proveedor3\",\n          \"Proveedor2\"\n        ],\n        \"semantic_type\": \"\",\n        \"description\": \"\"\n      }\n    },\n    {\n      \"column\": \"Fecha de Ingreso\",\n      \"properties\": {\n        \"dtype\": \"date\",\n        \"min\": \"2024-10-15 04:39:57.278000\",\n        \"max\": \"2025-10-14 04:39:57.320000\",\n        \"num_unique_values\": 4308,\n        \"samples\": [\n          \"2025-01-28 04:39:57.274000\",\n          \"2025-09-29 04:39:57.316000\",\n          \"2025-03-31 04:39:57.307000\"\n        ],\n        \"semantic_type\": \"\",\n        \"description\": \"\"\n      }\n    },\n    {\n      \"column\": \"Ubicaci\\u00f3n\",\n      \"properties\": {\n        \"dtype\": \"category\",\n        \"num_unique_values\": 3,\n        \"samples\": [\n          \"Almac\\u00e9n B\",\n          \"Almac\\u00e9n C\",\n          \"Almac\\u00e9n A\"\n        ],\n        \"semantic_type\": \"\",\n        \"description\": \"\"\n      }\n    }\n  ]\n}"
            }
          },
          "metadata": {},
          "execution_count": 57
        }
      ],
      "execution_count": 57,
      "metadata": {
        "id": "B76sXc6z1v65",
        "colab": {
          "base_uri": "https://localhost:8080/",
          "height": 328
        },
        "outputId": "8b95f78f-3f39-404f-ea7d-24cc70847271"
      }
    },
    {
      "cell_type": "markdown",
      "source": [
        "#Parte 3: Manipulación de Datos y Depuración\n",
        "2. En la subsección “Agregar datos de tabla excel al inventario”, el código primero valida y convierte el tipo de dato de las columnas 'Precio' y 'Fecha de Ingreso'. ¿Por qué es fundamental realizar estas validaciones antes de intentar la inserción en la base de datos?\n",
        "Validar los tipos asegura la consistencia de la base, evita errores de ejecución y mantiene la calidad de los datos. También permite manejar correctamente las fechas y formatos, garantizando que los valores se almacenen y consulten sin problemas."
      ],
      "metadata": {
        "id": "q748TvW7DkLv"
      }
    },
    {
      "cell_type": "code",
      "source": [
        "import sqlite3\n",
        "import pandas as pd\n",
        "\n",
        "# Leer el archivo Excel\n",
        "df = pd.read_excel('nuevos_productos_inventario.xlsx')\n",
        "\n",
        "# Convertir a lista de tuplas, omitiendo el id (se autoincrementa)\n",
        "datos = []\n",
        "for _, row in df.iterrows():\n",
        "    datos.append((\n",
        "        row['Nombre'],\n",
        "        row['Categoría'],\n",
        "        float(row['Precio']),\n",
        "        int(row['Cantidad']),\n",
        "        row['Proveedor'],\n",
        "        row['Fecha de Ingreso'].strftime('%Y-%m-%d'),  # Convertir a string en formato fecha\n",
        "        row['Ubicación']\n",
        "    ))\n",
        "\n",
        "# Conexión a la base de datos\n",
        "conn = sqlite3.connect('productos.db')\n",
        "c = conn.cursor()\n",
        "\n",
        "# Insertar todos los datos de una vez\n",
        "c.executemany('''\n",
        "    INSERT INTO inventario (nombre, categoria, precio, cantidad, proveedor, fecha_ingreso, ubicacion)\n",
        "    VALUES (?, ?, ?, ?, ?, ?, ?)\n",
        "''', datos)\n",
        "\n",
        "conn.commit()\n",
        "conn.close()"
      ],
      "outputs": [],
      "execution_count": 61,
      "metadata": {
        "id": "GQXlhufm3SDZ"
      }
    },
    {
      "cell_type": "code",
      "source": [
        "import sqlite3\n",
        "import pandas as pd\n",
        "\n",
        "conn = sqlite3.connect('productos.db')\n",
        "\n",
        "# Consulta SQL para calcular el valor total por categoría\n",
        "query = \"\"\"\n",
        "SELECT\n",
        "    categoria,\n",
        "    SUM(precio * cantidad) as valor_total\n",
        "FROM inventario\n",
        "GROUP BY categoria\n",
        "ORDER BY valor_total DESC\n",
        "\"\"\"\n",
        "\n",
        "df_valor = pd.read_sql_query(query, conn)\n",
        "print(df_valor)\n",
        "\n",
        "conn.close()"
      ],
      "metadata": {
        "colab": {
          "base_uri": "https://localhost:8080/"
        },
        "id": "IRINcvAcFPNN",
        "outputId": "e0a73fd3-4d5d-4b51-8bd6-5f2bf326e5df"
      },
      "execution_count": 63,
      "outputs": [
        {
          "output_type": "stream",
          "name": "stdout",
          "text": [
            "     categoria  valor_total\n",
            "0     Deportes  13120332.65\n",
            "1       Jardín  12832482.35\n",
            "2         Moda  12817255.83\n",
            "3  Electrónica  12796825.90\n",
            "4        Hogar  12792859.84\n"
          ]
        }
      ]
    },
    {
      "cell_type": "markdown",
      "source": [
        "3. ¡Error en el código! En el último bloque de código, bajo la subsección “Agregar\n",
        "datos de tabla excel al inventario”, hay un error que impedirá su correcta\n",
        "ejecución.\n",
        " A) Identifique el error en la línea c.execute(...) y explique por qué es un\n",
        "error.\n",
        " B) Corrija la línea para que el código funcione como se espera\n",
        "Error: El código intentaba insertar un valor None en id, que es INTEGER PRIMARY KEY.\n",
        "Corrección: No incluir id en el INSERT, dejando que SQLite lo genere automáticamente.\n"
      ],
      "metadata": {
        "id": "xgmCbXo0E4tZ"
      }
    }
  ],
  "metadata": {
    "colab": {
      "provenance": [],
      "include_colab_link": true
    },
    "kernelspec": {
      "name": "python",
      "language": "python",
      "display_name": "Pyolite (preview)"
    },
    "language_info": {
      "codemirror_mode": {
        "name": "python",
        "version": 3
      },
      "file_extension": ".py",
      "mimetype": "text/x-python",
      "name": "python",
      "nbconvert_exporter": "python",
      "pygments_lexer": "ipython3",
      "version": "3.8"
    },
    "kernel_info": {
      "name": "python"
    },
    "nteract": {
      "version": "nteract-front-end@1.0.0"
    }
  },
  "nbformat": 4,
  "nbformat_minor": 0
}