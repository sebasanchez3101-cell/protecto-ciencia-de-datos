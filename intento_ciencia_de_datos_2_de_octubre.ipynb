{
  "nbformat": 4,
  "nbformat_minor": 0,
  "metadata": {
    "colab": {
      "provenance": [],
      "authorship_tag": "ABX9TyMq7rFR8uOwRmlYjUDrMpnH",
      "include_colab_link": true
    },
    "kernelspec": {
      "name": "python3",
      "display_name": "Python 3"
    },
    "language_info": {
      "name": "python"
    }
  },
  "cells": [
    {
      "cell_type": "markdown",
      "metadata": {
        "id": "view-in-github",
        "colab_type": "text"
      },
      "source": [
        "<a href=\"https://colab.research.google.com/github/sebasanchez3101-cell/protecto-ciencia-de-datos/blob/main/intento_ciencia_de_datos_2_de_octubre.ipynb\" target=\"_parent\"><img src=\"https://colab.research.google.com/assets/colab-badge.svg\" alt=\"Open In Colab\"/></a>"
      ]
    },
    {
      "cell_type": "code",
      "execution_count": 41,
      "metadata": {
        "colab": {
          "base_uri": "https://localhost:8080/"
        },
        "id": "0pWHvSnJlON3",
        "outputId": "6093ed73-45e6-4c6a-8465-5ac7e875813f"
      },
      "outputs": [
        {
          "output_type": "stream",
          "name": "stdout",
          "text": [
            "Drive already mounted at /content/drive; to attempt to forcibly remount, call drive.mount(\"/content/drive\", force_remount=True).\n"
          ]
        }
      ],
      "source": [
        "#Fecha: 03-10-2025\n",
        "#Autor: johan sebastian sanchez gomez\n",
        "#Grupo: S4C\n",
        "#Nombre del programa: GestiónEstudiantes (Implementación en Google Colab)\n",
        "\n",
        "#--------------------------------------------------------------------------------------|\n",
        "#|-------------------------------| Importaciones y Configuración Inicial |-------------|\n",
        "#--------------------------------------------------------------------------------------|\n",
        "\n",
        "# En Google Colab, se debe montar el Google Drive para acceder y guardar archivos.\n",
        "from google.colab import drive\n",
        "drive.mount('/content/drive')\n"
      ]
    },
    {
      "cell_type": "code",
      "source": [
        "from datetime import date"
      ],
      "metadata": {
        "id": "xk5EZ_6t883S"
      },
      "execution_count": 42,
      "outputs": []
    },
    {
      "cell_type": "code",
      "source": [
        "\n",
        "class Person:\n",
        "    \"\"\"\n",
        "    Clase Person:\n",
        "    Representa a una persona genérica con nombre, email y edad.\n",
        "    \"\"\"\n",
        "\n",
        "    def __init__(self, n: str, e: str, b: date):\n",
        "        \"\"\"\n",
        "        Constructor de la clase Person.\n",
        "\n",
        "        Parámetros:\n",
        "            n (str): Nombre de la persona\n",
        "            e (str): Dirección de correo electrónico\n",
        "            b (date): Fecha de nacimiento de la persona\n",
        "        \"\"\"\n",
        "        self.__name = n\n",
        "        self.__email = None\n",
        "        self.set_email(e)\n",
        "        self.__age = self.calculateAge(b)\n",
        "\n",
        "    def calculateAge(self, b: date) -> int:\n",
        "        \"\"\"\n",
        "        Calcula la edad actual a partir de la fecha de nacimiento.\n",
        "        Retorna:\n",
        "            (int): Edad en años.\n",
        "        \"\"\"\n",
        "        days_in_year = 365.2425\n",
        "        return int((date.today() - b).days / days_in_year)\n",
        "\n",
        "    def set_email(self, e: str):\n",
        "        \"\"\"\n",
        "        Valida y establece el email.\n",
        "        Si no es válido, asigna None.\n",
        "        \"\"\"\n",
        "        if e.count(\"@\") == 1 and e.find(\"@\") >= 1 and e.find(\"@\") + 2 < e.rfind(\".\"):\n",
        "            self.__email = e\n",
        "        else:\n",
        "            print(\"Invalid Email:\", e)\n",
        "            self.__email = None\n",
        "\n",
        "    def get_email(self) -> str:\n",
        "        \"\"\"Retorna el email de la persona.\"\"\"\n",
        "        return self.__email\n",
        "\n",
        "    def get_name(self) -> str:\n",
        "        \"\"\"Retorna el nombre de la persona.\"\"\"\n",
        "        return self.__name\n",
        "\n",
        "    def set_name(self, n: str):\n",
        "        \"\"\"Permite cambiar el nombre de la persona.\"\"\"\n",
        "        self.__name = n\n",
        "\n",
        "    def get_age(self) -> int:\n",
        "        \"\"\"Retorna la edad calculada de la persona.\"\"\"\n",
        "        return self.__age\n",
        "\n",
        "    def __eq__(self, other) -> bool:\n",
        "        \"\"\"Compara personas por nombre.\"\"\"\n",
        "        return self.__name == other.__name\n",
        "\n",
        "    def __str__(self) -> str:\n",
        "        \"\"\"Retorna la representación en string del objeto.\"\"\"\n",
        "        return f\"name: {self.__name}\\t email: {self.__email}\\t age: {self.__age}\"\n"
      ],
      "metadata": {
        "id": "_nuAR2tplnlQ"
      },
      "execution_count": 43,
      "outputs": []
    },
    {
      "cell_type": "code",
      "source": [
        "class Student(Person):\n",
        "    \"\"\"\n",
        "    Clase Student:\n",
        "    Hereda de Person y agrega atributos específicos de un estudiante,\n",
        "    como ID, cursos matriculados y promedio de notas.\n",
        "    \"\"\"\n",
        "\n",
        "    def __init__(self, n: str, e: str, b: date, ID: int):\n",
        "        \"\"\"\n",
        "        Constructor de Student.\n",
        "\n",
        "        Parámetros:\n",
        "            n (str): Nombre del estudiante\n",
        "            e (str): Correo electrónico\n",
        "            b (date): Fecha de nacimiento\n",
        "            ID (int): Identificador único del estudiante\n",
        "        \"\"\"\n",
        "        super().__init__(n, e, b)\n",
        "        self.__SID = ID\n",
        "        self.__Courses = dict()\n",
        "        self.__AverageGrade = 0\n",
        "\n",
        "    def addCourses(self, CourseID: str, result: float):\n",
        "        \"\"\"\n",
        "        Agrega un curso al estudiante con la calificación obtenida.\n",
        "        \"\"\"\n",
        "        self.__Courses[CourseID] = result\n",
        "        self.calculateAverage()\n",
        "\n",
        "    def calculateAverage(self):\n",
        "        \"\"\"\n",
        "        Calcula el promedio de todas las notas de los cursos inscritos.\n",
        "        \"\"\"\n",
        "        if len(self.__Courses) > 0:\n",
        "            total = sum(self.__Courses.values())\n",
        "            self.__AverageGrade = total / len(self.__Courses)\n",
        "        else:\n",
        "            self.__AverageGrade = 0\n",
        "\n",
        "    def get_AverageGrade(self) -> float:\n",
        "        \"\"\"Retorna el promedio del estudiante.\"\"\"\n",
        "        return self.__AverageGrade\n",
        "\n",
        "    def get_SID(self) -> int:\n",
        "        \"\"\"Retorna el ID del estudiante.\"\"\"\n",
        "        return self.__SID\n",
        "\n",
        "    def get_Courses(self) -> dict:\n",
        "        \"\"\"Retorna el diccionario de cursos y calificaciones.\"\"\"\n",
        "        return self.__Courses\n",
        "\n",
        "    def set_SID(self, ID: int):\n",
        "        \"\"\"Permite modificar el ID del estudiante.\"\"\"\n",
        "        self.__SID = ID\n",
        "\n",
        "    def __str__(self) -> str:\n",
        "        \"\"\"Representación en string del objeto Student.\"\"\"\n",
        "        return (super().__str__() +\n",
        "                f'\\t SID: {self.__SID}\\t Courses: {self.__Courses}\\t AverageGrade: {self.__AverageGrade}')\n",
        "\n",
        "    def __eq__(self, other) -> bool:\n",
        "        \"\"\"Compara estudiantes por su ID.\"\"\"\n",
        "        return isinstance(other, Student) and self.__SID == other.__SID\n",
        "\n",
        "    def __lt__(self, other) -> bool:\n",
        "        \"\"\"Permite comparar estudiantes por promedio (ordenamiento).\"\"\"\n",
        "        return self.__AverageGrade < other.__AverageGrade"
      ],
      "metadata": {
        "id": "2prfe6Anlo8G"
      },
      "execution_count": 44,
      "outputs": []
    },
    {
      "cell_type": "code",
      "source": [
        "# Lista de estudiantes\n",
        "students_list = []\n",
        "\n",
        "# Creación de estudiantes de ejemplo\n",
        "S1 = Student(\"khouloud\", \"kh@hotmail.com\", date(1995, 2, 3), 123)\n",
        "S1.addCourses(\"CS120\", 90)\n",
        "S1.addCourses(\"IT320\", 95)\n",
        "S1.addCourses(\"CS100\", 95)\n",
        "\n",
        "S2 = Student(\"khadija\", \"khadija@gmail.com\", date(1995, 9, 3), 232)\n",
        "S2.addCourses(\"CS120\", 80)\n",
        "S2.addCourses(\"IT320\", 75)\n",
        "S2.addCourses(\"CS100\", 95)\n",
        "\n",
        "S3 = Student(\"khaled\", \"khaled@gamil.com\", date(1999, 5, 6), 235)\n",
        "S3.addCourses(\"CS120\", 75)\n",
        "S3.addCourses(\"IT320\", 88)\n",
        "S3.addCourses(\"CS100\", 90)\n",
        "\n",
        "students_list.extend([S1, S2, S3])\n",
        "\n",
        "# Ejemplo de búsqueda\n",
        "searchs = Student(\"Khadija\", \"khadija@gmail.com\", date(1995, 9, 3), 232)\n",
        "if students_list.count(searchs) > 0:\n",
        "    print(\"The student is found\")\n",
        "else:\n",
        "    print(\"The student is NOT found\")\n",
        "\n",
        "# Ordenamiento de estudiantes por promedio\n",
        "students_list.sort()\n",
        "for p in students_list:\n",
        "    print(p)"
      ],
      "metadata": {
        "colab": {
          "base_uri": "https://localhost:8080/"
        },
        "id": "1v-tq4vv9Tzj",
        "outputId": "8a06f4e9-8c91-4abd-e9ea-0855f9c6340b"
      },
      "execution_count": 45,
      "outputs": [
        {
          "output_type": "stream",
          "name": "stdout",
          "text": [
            "The student is found\n",
            "name: khadija\t email: khadija@gmail.com\t age: 30\t SID: 232\t Courses: {'CS120': 80, 'IT320': 75, 'CS100': 95}\t AverageGrade: 83.33333333333333\n",
            "name: khaled\t email: khaled@gamil.com\t age: 26\t SID: 235\t Courses: {'CS120': 75, 'IT320': 88, 'CS100': 90}\t AverageGrade: 84.33333333333333\n",
            "name: khouloud\t email: kh@hotmail.com\t age: 30\t SID: 123\t Courses: {'CS120': 90, 'IT320': 95, 'CS100': 95}\t AverageGrade: 93.33333333333333\n"
          ]
        }
      ]
    },
    {
      "cell_type": "code",
      "source": [
        "test_code = \"\"\"\n",
        "import pytest\n",
        "from datetime import date\n",
        "from classes import Person, Student\n",
        "\n",
        "def test_person_creation():\n",
        "    person = Person(\"John Doe\", \"john.doe@example.com\", date(1990, 5, 20))\n",
        "    assert person.get_name() == \"John Doe\"\n",
        "    assert person.get_email() == \"john.doe@example.com\"\n",
        "    assert person.get_age() == person.calculateAge(date(1990, 5, 20))\n",
        "\n",
        "def test_person_email_validation():\n",
        "    person = Person(\"John Doe\", \"invalid_email\", date(1992, 3, 15))\n",
        "    assert person.get_email() is None\n",
        "\n",
        "def test_student_creation():\n",
        "    student = Student(\"Alice\", \"alice@example.com\", date(2000, 1, 1), 12345)\n",
        "    assert student.get_name() == \"Alice\"\n",
        "    assert student.get_SID() == 12345\n",
        "    assert student.get_AverageGrade() == 0.0\n",
        "\n",
        "def test_student_add_courses():\n",
        "    student = Student(\"Bob\", \"bob@example.com\", date(1998, 6, 12), 67890)\n",
        "    student.addCourses(\"CS101\", 90)\n",
        "    student.addCourses(\"Math101\", 85)\n",
        "    assert len(student.get_Courses()) == 2\n",
        "    assert student.get_AverageGrade() == 87.5\n",
        "\"\"\"\n",
        "\n",
        "with open('test_classes.py', 'w') as f:\n",
        "    f.write(test_code)\n"
      ],
      "metadata": {
        "id": "vzpl13aDlrSN"
      },
      "execution_count": 46,
      "outputs": []
    },
    {
      "cell_type": "code",
      "source": [
        "#Con esto se verifica que el archivo se guardo, para ver classes.py y también test_classes.py.\n",
        "!ls"
      ],
      "metadata": {
        "colab": {
          "base_uri": "https://localhost:8080/"
        },
        "id": "mutThKvN-7e9",
        "outputId": "8c962f28-def5-4e8f-e56d-ff7313cf7cc6"
      },
      "execution_count": 47,
      "outputs": [
        {
          "output_type": "stream",
          "name": "stdout",
          "text": [
            "drive  person.py  __pycache__  sample_data  student.py\ttest_classes.py\n"
          ]
        }
      ]
    },
    {
      "cell_type": "code",
      "source": [
        "!pip install pytest\n"
      ],
      "metadata": {
        "colab": {
          "base_uri": "https://localhost:8080/"
        },
        "id": "6VqZSDSClvRp",
        "outputId": "8a383096-18b7-45b9-9a61-d1e9e532741a"
      },
      "execution_count": 48,
      "outputs": [
        {
          "output_type": "stream",
          "name": "stdout",
          "text": [
            "Requirement already satisfied: pytest in /usr/local/lib/python3.12/dist-packages (8.4.2)\n",
            "Requirement already satisfied: iniconfig>=1 in /usr/local/lib/python3.12/dist-packages (from pytest) (2.1.0)\n",
            "Requirement already satisfied: packaging>=20 in /usr/local/lib/python3.12/dist-packages (from pytest) (25.0)\n",
            "Requirement already satisfied: pluggy<2,>=1.5 in /usr/local/lib/python3.12/dist-packages (from pytest) (1.6.0)\n",
            "Requirement already satisfied: pygments>=2.7.2 in /usr/local/lib/python3.12/dist-packages (from pytest) (2.19.2)\n"
          ]
        }
      ]
    },
    {
      "cell_type": "code",
      "source": [
        "!pytest test_classes.py"
      ],
      "metadata": {
        "colab": {
          "base_uri": "https://localhost:8080/"
        },
        "id": "CXaRv_DC9sFf",
        "outputId": "9d93a227-00f6-4628-c3ec-eb4b2cff23b5"
      },
      "execution_count": 49,
      "outputs": [
        {
          "output_type": "stream",
          "name": "stdout",
          "text": [
            "\u001b[1m============================= test session starts ==============================\u001b[0m\n",
            "platform linux -- Python 3.12.11, pytest-8.4.2, pluggy-1.6.0\n",
            "rootdir: /content\n",
            "plugins: anyio-4.11.0, typeguard-4.4.4, langsmith-0.4.31\n",
            "\u001b[1mcollecting ... \u001b[0m\u001b[1m\rcollected 0 items / 1 error                                                    \u001b[0m\n",
            "\n",
            "==================================== ERRORS ====================================\n",
            "\u001b[31m\u001b[1m_______________________ ERROR collecting test_classes.py _______________________\u001b[0m\n",
            "\u001b[31mImportError while importing test module '/content/test_classes.py'.\n",
            "Hint: make sure your test modules/packages have valid Python names.\n",
            "Traceback:\n",
            "/usr/lib/python3.12/importlib/__init__.py:90: in import_module\n",
            "    return _bootstrap._gcd_import(name[level:], package, level)\n",
            "           ^^^^^^^^^^^^^^^^^^^^^^^^^^^^^^^^^^^^^^^^^^^^^^^^^^^^\n",
            "test_classes.py:4: in <module>\n",
            "    from classes import Person, Student\n",
            "E   ModuleNotFoundError: No module named 'classes'\u001b[0m\n",
            "\u001b[36m\u001b[1m=========================== short test summary info ============================\u001b[0m\n",
            "\u001b[31mERROR\u001b[0m test_classes.py\n",
            "!!!!!!!!!!!!!!!!!!!! Interrupted: 1 error during collection !!!!!!!!!!!!!!!!!!!!\n",
            "\u001b[31m=============================== \u001b[31m\u001b[1m1 error\u001b[0m\u001b[31m in 0.33s\u001b[0m\u001b[31m ===============================\u001b[0m\n"
          ]
        }
      ]
    }
  ]
}